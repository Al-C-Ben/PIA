{
 "cells": [
  {
   "cell_type": "markdown",
   "metadata": {},
   "source": [
    "# Práctica 6 - Redes Neuronales\n",
    "\n",
    "En esta práctica, a partir de unos datos médicos determinaremos si una persona a fallecido o no por un problema cardiovascular."
   ]
  },
  {
   "cell_type": "markdown",
   "metadata": {},
   "source": [
    "Cargamos nuestros datos desde fichero con Pandas."
   ]
  },
  {
   "cell_type": "code",
   "execution_count": 142,
   "metadata": {},
   "outputs": [
    {
     "data": {
      "text/html": [
       "<div>\n",
       "<style scoped>\n",
       "    .dataframe tbody tr th:only-of-type {\n",
       "        vertical-align: middle;\n",
       "    }\n",
       "\n",
       "    .dataframe tbody tr th {\n",
       "        vertical-align: top;\n",
       "    }\n",
       "\n",
       "    .dataframe thead th {\n",
       "        text-align: right;\n",
       "    }\n",
       "</style>\n",
       "<table border=\"1\" class=\"dataframe\">\n",
       "  <thead>\n",
       "    <tr style=\"text-align: right;\">\n",
       "      <th></th>\n",
       "      <th>edad</th>\n",
       "      <th>creatinina_fosfocinasa</th>\n",
       "      <th>diabetes</th>\n",
       "      <th>sangre_contraccion</th>\n",
       "      <th>plaquetas</th>\n",
       "      <th>creatinina</th>\n",
       "      <th>sodio</th>\n",
       "      <th>seguimiento</th>\n",
       "      <th>fallecimiento</th>\n",
       "      <th>anemia</th>\n",
       "      <th>tension</th>\n",
       "      <th>sexo</th>\n",
       "      <th>fumador</th>\n",
       "    </tr>\n",
       "  </thead>\n",
       "  <tbody>\n",
       "    <tr>\n",
       "      <th>0</th>\n",
       "      <td>75</td>\n",
       "      <td>582</td>\n",
       "      <td>No</td>\n",
       "      <td>20</td>\n",
       "      <td>265000.00</td>\n",
       "      <td>1.9</td>\n",
       "      <td>130</td>\n",
       "      <td>4</td>\n",
       "      <td>1</td>\n",
       "      <td>No</td>\n",
       "      <td>muy alta</td>\n",
       "      <td>Hombre</td>\n",
       "      <td>ocasional</td>\n",
       "    </tr>\n",
       "    <tr>\n",
       "      <th>1</th>\n",
       "      <td>55</td>\n",
       "      <td>7861</td>\n",
       "      <td>No</td>\n",
       "      <td>38</td>\n",
       "      <td>263358.03</td>\n",
       "      <td>1.1</td>\n",
       "      <td>136</td>\n",
       "      <td>6</td>\n",
       "      <td>1</td>\n",
       "      <td>No</td>\n",
       "      <td>ligeramente alta</td>\n",
       "      <td>Hombre</td>\n",
       "      <td>ocasional</td>\n",
       "    </tr>\n",
       "    <tr>\n",
       "      <th>2</th>\n",
       "      <td>65</td>\n",
       "      <td>146</td>\n",
       "      <td>No</td>\n",
       "      <td>20</td>\n",
       "      <td>162000.00</td>\n",
       "      <td>1.3</td>\n",
       "      <td>129</td>\n",
       "      <td>7</td>\n",
       "      <td>1</td>\n",
       "      <td>No</td>\n",
       "      <td>ligeramente alta</td>\n",
       "      <td>Hombre</td>\n",
       "      <td>&gt;2 paquetes/día</td>\n",
       "    </tr>\n",
       "    <tr>\n",
       "      <th>3</th>\n",
       "      <td>50</td>\n",
       "      <td>111</td>\n",
       "      <td>No</td>\n",
       "      <td>20</td>\n",
       "      <td>210000.00</td>\n",
       "      <td>1.9</td>\n",
       "      <td>137</td>\n",
       "      <td>7</td>\n",
       "      <td>1</td>\n",
       "      <td>Si</td>\n",
       "      <td>ligeramente alta</td>\n",
       "      <td>Hombre</td>\n",
       "      <td>ocasional</td>\n",
       "    </tr>\n",
       "    <tr>\n",
       "      <th>4</th>\n",
       "      <td>65</td>\n",
       "      <td>160</td>\n",
       "      <td>Sí</td>\n",
       "      <td>20</td>\n",
       "      <td>327000.00</td>\n",
       "      <td>2.7</td>\n",
       "      <td>116</td>\n",
       "      <td>8</td>\n",
       "      <td>1</td>\n",
       "      <td>Si</td>\n",
       "      <td>ligeramente alta</td>\n",
       "      <td>Mujer</td>\n",
       "      <td>ocasional</td>\n",
       "    </tr>\n",
       "    <tr>\n",
       "      <th>...</th>\n",
       "      <td>...</td>\n",
       "      <td>...</td>\n",
       "      <td>...</td>\n",
       "      <td>...</td>\n",
       "      <td>...</td>\n",
       "      <td>...</td>\n",
       "      <td>...</td>\n",
       "      <td>...</td>\n",
       "      <td>...</td>\n",
       "      <td>...</td>\n",
       "      <td>...</td>\n",
       "      <td>...</td>\n",
       "      <td>...</td>\n",
       "    </tr>\n",
       "    <tr>\n",
       "      <th>294</th>\n",
       "      <td>62</td>\n",
       "      <td>61</td>\n",
       "      <td>Sí</td>\n",
       "      <td>38</td>\n",
       "      <td>155000.00</td>\n",
       "      <td>1.1</td>\n",
       "      <td>143</td>\n",
       "      <td>270</td>\n",
       "      <td>0</td>\n",
       "      <td>0</td>\n",
       "      <td>alta</td>\n",
       "      <td>masculino</td>\n",
       "      <td>sí</td>\n",
       "    </tr>\n",
       "    <tr>\n",
       "      <th>295</th>\n",
       "      <td>55</td>\n",
       "      <td>1820</td>\n",
       "      <td>No</td>\n",
       "      <td>38</td>\n",
       "      <td>270000.00</td>\n",
       "      <td>1.2</td>\n",
       "      <td>139</td>\n",
       "      <td>271</td>\n",
       "      <td>0</td>\n",
       "      <td>0</td>\n",
       "      <td>normal</td>\n",
       "      <td>femenino</td>\n",
       "      <td>no</td>\n",
       "    </tr>\n",
       "    <tr>\n",
       "      <th>296</th>\n",
       "      <td>45</td>\n",
       "      <td>2060</td>\n",
       "      <td>Sí</td>\n",
       "      <td>60</td>\n",
       "      <td>742000.00</td>\n",
       "      <td>0.8</td>\n",
       "      <td>138</td>\n",
       "      <td>278</td>\n",
       "      <td>0</td>\n",
       "      <td>0</td>\n",
       "      <td>normal</td>\n",
       "      <td>femenino</td>\n",
       "      <td>no</td>\n",
       "    </tr>\n",
       "    <tr>\n",
       "      <th>297</th>\n",
       "      <td>45</td>\n",
       "      <td>2413</td>\n",
       "      <td>No</td>\n",
       "      <td>38</td>\n",
       "      <td>140000.00</td>\n",
       "      <td>1.4</td>\n",
       "      <td>140</td>\n",
       "      <td>280</td>\n",
       "      <td>0</td>\n",
       "      <td>0</td>\n",
       "      <td>normal</td>\n",
       "      <td>masculino</td>\n",
       "      <td>sí</td>\n",
       "    </tr>\n",
       "    <tr>\n",
       "      <th>298</th>\n",
       "      <td>50</td>\n",
       "      <td>196</td>\n",
       "      <td>No</td>\n",
       "      <td>45</td>\n",
       "      <td>395000.00</td>\n",
       "      <td>1.6</td>\n",
       "      <td>136</td>\n",
       "      <td>285</td>\n",
       "      <td>0</td>\n",
       "      <td>0</td>\n",
       "      <td>normal</td>\n",
       "      <td>masculino</td>\n",
       "      <td>sí</td>\n",
       "    </tr>\n",
       "  </tbody>\n",
       "</table>\n",
       "<p>299 rows × 13 columns</p>\n",
       "</div>"
      ],
      "text/plain": [
       "     edad  creatinina_fosfocinasa diabetes  sangre_contraccion  plaquetas  \\\n",
       "0      75                     582       No                  20  265000.00   \n",
       "1      55                    7861       No                  38  263358.03   \n",
       "2      65                     146       No                  20  162000.00   \n",
       "3      50                     111       No                  20  210000.00   \n",
       "4      65                     160       Sí                  20  327000.00   \n",
       "..    ...                     ...      ...                 ...        ...   \n",
       "294    62                      61       Sí                  38  155000.00   \n",
       "295    55                    1820       No                  38  270000.00   \n",
       "296    45                    2060       Sí                  60  742000.00   \n",
       "297    45                    2413       No                  38  140000.00   \n",
       "298    50                     196       No                  45  395000.00   \n",
       "\n",
       "     creatinina  sodio  seguimiento  fallecimiento anemia           tension  \\\n",
       "0           1.9    130            4              1     No          muy alta   \n",
       "1           1.1    136            6              1     No  ligeramente alta   \n",
       "2           1.3    129            7              1     No  ligeramente alta   \n",
       "3           1.9    137            7              1     Si  ligeramente alta   \n",
       "4           2.7    116            8              1     Si  ligeramente alta   \n",
       "..          ...    ...          ...            ...    ...               ...   \n",
       "294         1.1    143          270              0      0              alta   \n",
       "295         1.2    139          271              0      0            normal   \n",
       "296         0.8    138          278              0      0            normal   \n",
       "297         1.4    140          280              0      0            normal   \n",
       "298         1.6    136          285              0      0            normal   \n",
       "\n",
       "          sexo          fumador  \n",
       "0       Hombre        ocasional  \n",
       "1       Hombre        ocasional  \n",
       "2       Hombre  >2 paquetes/día  \n",
       "3       Hombre        ocasional  \n",
       "4        Mujer        ocasional  \n",
       "..         ...              ...  \n",
       "294  masculino               sí  \n",
       "295   femenino               no  \n",
       "296   femenino               no  \n",
       "297  masculino               sí  \n",
       "298  masculino               sí  \n",
       "\n",
       "[299 rows x 13 columns]"
      ]
     },
     "execution_count": 142,
     "metadata": {},
     "output_type": "execute_result"
    }
   ],
   "source": [
    "import pandas as pd\n",
    "\n",
    "data = pd.read_csv('historial_clinico.csv')\n",
    "data"
   ]
  },
  {
   "cell_type": "markdown",
   "metadata": {},
   "source": [
    "Viendo los valores mostrados, será necesario revisar todas las columnas de texto para que sean similares, por ejemplo la columna `sexo`."
   ]
  },
  {
   "cell_type": "code",
   "execution_count": 143,
   "metadata": {},
   "outputs": [
    {
     "name": "stdout",
     "output_type": "stream",
     "text": [
      "<class 'pandas.core.frame.DataFrame'>\n",
      "RangeIndex: 299 entries, 0 to 298\n",
      "Data columns (total 13 columns):\n",
      " #   Column                  Non-Null Count  Dtype  \n",
      "---  ------                  --------------  -----  \n",
      " 0   edad                    299 non-null    int64  \n",
      " 1   creatinina_fosfocinasa  299 non-null    int64  \n",
      " 2   diabetes                299 non-null    object \n",
      " 3   sangre_contraccion      299 non-null    int64  \n",
      " 4   plaquetas               299 non-null    float64\n",
      " 5   creatinina              299 non-null    float64\n",
      " 6   sodio                   299 non-null    int64  \n",
      " 7   seguimiento             299 non-null    int64  \n",
      " 8   fallecimiento           299 non-null    int64  \n",
      " 9   anemia                  298 non-null    object \n",
      " 10  tension                 299 non-null    object \n",
      " 11  sexo                    299 non-null    object \n",
      " 12  fumador                 299 non-null    object \n",
      "dtypes: float64(2), int64(6), object(5)\n",
      "memory usage: 30.5+ KB\n"
     ]
    }
   ],
   "source": [
    "data.info()"
   ]
  },
  {
   "cell_type": "markdown",
   "metadata": {},
   "source": [
    "En principio no se detectan valores nulos con opción `info`."
   ]
  },
  {
   "cell_type": "markdown",
   "metadata": {},
   "source": [
    "Revisamos las columnas de tipo `object`."
   ]
  },
  {
   "cell_type": "code",
   "execution_count": 144,
   "metadata": {},
   "outputs": [
    {
     "data": {
      "text/plain": [
       "No    174\n",
       "Sí    125\n",
       "Name: diabetes, dtype: int64"
      ]
     },
     "execution_count": 144,
     "metadata": {},
     "output_type": "execute_result"
    }
   ],
   "source": [
    "data.diabetes.value_counts()"
   ]
  },
  {
   "cell_type": "markdown",
   "metadata": {},
   "source": [
    "`diabetes` solo tiene 2 valores posibles."
   ]
  },
  {
   "cell_type": "code",
   "execution_count": 145,
   "metadata": {},
   "outputs": [
    {
     "data": {
      "text/plain": [
       "0     65\n",
       "no    53\n",
       "No    52\n",
       "Si    48\n",
       "Sí    47\n",
       "1     33\n",
       "Name: anemia, dtype: int64"
      ]
     },
     "execution_count": 145,
     "metadata": {},
     "output_type": "execute_result"
    }
   ],
   "source": [
    "data.anemia.value_counts()"
   ]
  },
  {
   "cell_type": "markdown",
   "metadata": {},
   "source": [
    "En `anemia` tenemos mezclados valores tanto numéricos como de texto para dar un valor que debería ser binario.<br>\n",
    "Procedemos a modificar estos datos, convirtiéndolos en 0 o 1, y dejando la columna de tipo numérico."
   ]
  },
  {
   "cell_type": "code",
   "execution_count": 146,
   "metadata": {},
   "outputs": [],
   "source": [
    "# PASS\n",
    "# Modificar la columna anemia\n",
    "tiene_anemia = {'no':'0', \n",
    "                'No':'0',\n",
    "                'Si':'1',\n",
    "                'Sí':'1'}\n",
    "data.anemia.replace(tiene_anemia, inplace=True)"
   ]
  },
  {
   "cell_type": "code",
   "execution_count": 147,
   "metadata": {},
   "outputs": [
    {
     "data": {
      "text/plain": [
       "normal              137\n",
       "alta                 66\n",
       "ligeramente alta     57\n",
       "muy alta             39\n",
       "Name: tension, dtype: int64"
      ]
     },
     "execution_count": 147,
     "metadata": {},
     "output_type": "execute_result"
    }
   ],
   "source": [
    "data.tension.value_counts()"
   ]
  },
  {
   "cell_type": "markdown",
   "metadata": {},
   "source": [
    "Para `tension` tenemos 4 posibles valores, por lo que no es necesaria ninguna actuación."
   ]
  },
  {
   "cell_type": "code",
   "execution_count": 148,
   "metadata": {},
   "outputs": [
    {
     "data": {
      "text/plain": [
       "Hombre       66\n",
       "Man          64\n",
       "masculino    64\n",
       "Woman        36\n",
       "femenino     35\n",
       "Mujer        34\n",
       "Name: sexo, dtype: int64"
      ]
     },
     "execution_count": 148,
     "metadata": {},
     "output_type": "execute_result"
    }
   ],
   "source": [
    "data.sexo.value_counts()"
   ]
  },
  {
   "cell_type": "markdown",
   "metadata": {},
   "source": [
    "En la columna `sexo` vemos como otro valor binario, está referenciado con múltiples valores.<br>\n",
    "Se modifica para que solo tenga 2 valores posibles."
   ]
  },
  {
   "cell_type": "code",
   "execution_count": 149,
   "metadata": {},
   "outputs": [],
   "source": [
    "# PASS\n",
    "# Modificación de la columna sexo\n",
    "tipo_sexo = {'Man':'Hombre', \n",
    "                'masculino':'Hombre',\n",
    "                'Woman':'Mujer',\n",
    "                'femenino':'Mujer'}\n",
    "data.sexo.replace(tipo_sexo, inplace=True)"
   ]
  },
  {
   "cell_type": "code",
   "execution_count": 150,
   "metadata": {},
   "outputs": [
    {
     "data": {
      "text/plain": [
       "no                 137\n",
       "ocasional           66\n",
       "sí                  66\n",
       ">2 paquetes/día     30\n",
       "Name: fumador, dtype: int64"
      ]
     },
     "execution_count": 150,
     "metadata": {},
     "output_type": "execute_result"
    }
   ],
   "source": [
    "data.fumador.value_counts()"
   ]
  },
  {
   "cell_type": "markdown",
   "metadata": {},
   "source": [
    "Para `fumador` existen 4 valores bien diferenciados, por lo que no es necesario realizar ninguna modificación."
   ]
  },
  {
   "cell_type": "markdown",
   "metadata": {},
   "source": [
    "Realizamos la división de los datos de propiedades `X` y el valor a predecir `y`."
   ]
  },
  {
   "cell_type": "code",
   "execution_count": 151,
   "metadata": {},
   "outputs": [],
   "source": [
    "X = data.drop('fallecimiento', axis=1)\n",
    "y = data.fallecimiento"
   ]
  },
  {
   "cell_type": "markdown",
   "metadata": {},
   "source": [
    "Obtenemos las columnas numéricas de `X`."
   ]
  },
  {
   "cell_type": "code",
   "execution_count": 152,
   "metadata": {},
   "outputs": [
    {
     "data": {
      "text/plain": [
       "['edad',\n",
       " 'creatinina_fosfocinasa',\n",
       " 'sangre_contraccion',\n",
       " 'plaquetas',\n",
       " 'creatinina',\n",
       " 'sodio',\n",
       " 'seguimiento']"
      ]
     },
     "execution_count": 152,
     "metadata": {},
     "output_type": "execute_result"
    }
   ],
   "source": [
    "col_num = [col for col in X.columns if not(str(X[col].dtype) in ('object')) ]\n",
    "col_num"
   ]
  },
  {
   "cell_type": "markdown",
   "metadata": {},
   "source": [
    "Estas columnas las vamos a normalizar con valores de 0 a 1 con la función `normalize` de Keras."
   ]
  },
  {
   "cell_type": "code",
   "execution_count": 153,
   "metadata": {},
   "outputs": [],
   "source": [
    "from tensorflow.keras.utils import normalize\n",
    "\n",
    "for col in col_num:\n",
    "    X[col] = normalize(X[col].values, axis=-1, order=10 )[0]"
   ]
  },
  {
   "cell_type": "markdown",
   "metadata": {},
   "source": [
    "Veamos que columnas nos quedan como tipo `object` en `X`."
   ]
  },
  {
   "cell_type": "code",
   "execution_count": 154,
   "metadata": {},
   "outputs": [
    {
     "data": {
      "text/plain": [
       "['diabetes', 'anemia', 'tension', 'sexo', 'fumador']"
      ]
     },
     "execution_count": 154,
     "metadata": {},
     "output_type": "execute_result"
    }
   ],
   "source": [
    "col_no_num = [col for col in X.columns if str(X[col].dtype) in ('object') ]\n",
    "col_no_num"
   ]
  },
  {
   "cell_type": "markdown",
   "metadata": {},
   "source": [
    "Vamos a realizar una doble conversión sobre estas columnas, las categorizaremos númericamente con la propia librería de Pandas, para sobre esa salida aplicar One Hot Encoder con `to_categorical` de Keras.<br>\n",
    "Nota: esta función no está disponible en `tensorflow.keras`."
   ]
  },
  {
   "cell_type": "code",
   "execution_count": 155,
   "metadata": {},
   "outputs": [],
   "source": [
    "from keras.utils import np_utils\n",
    "\n",
    "for col in col_no_num:\n",
    "    X[col] = np_utils.to_categorical(X[col].astype('category').cat.codes)"
   ]
  },
  {
   "cell_type": "markdown",
   "metadata": {},
   "source": [
    "Veamos la distribución de `X` ya que nos será necesario para la creación de la red neuronal."
   ]
  },
  {
   "cell_type": "code",
   "execution_count": 156,
   "metadata": {},
   "outputs": [
    {
     "data": {
      "text/plain": [
       "(299, 12)"
      ]
     },
     "execution_count": 156,
     "metadata": {},
     "output_type": "execute_result"
    }
   ],
   "source": [
    "X.shape"
   ]
  },
  {
   "cell_type": "markdown",
   "metadata": {},
   "source": [
    "Nuestro tensor de entrada tiene 299 ejemplos con 12 propiedades."
   ]
  },
  {
   "cell_type": "markdown",
   "metadata": {},
   "source": [
    "Dividimos nuestros DataFrame en los datos de entrenamiento y test."
   ]
  },
  {
   "cell_type": "code",
   "execution_count": 157,
   "metadata": {},
   "outputs": [],
   "source": [
    "from sklearn.model_selection import train_test_split\n",
    "\n",
    "X_train, X_test, y_train, y_test = train_test_split(\n",
    "    X, y, \n",
    "    stratify=y,\n",
    "    shuffle=True,\n",
    "    test_size=0.3)"
   ]
  },
  {
   "cell_type": "markdown",
   "metadata": {},
   "source": [
    "Comenzamos con la creación de nuestra red neuronal.<br>\n",
    "Primero creamos nuestro `modelo` instanciándolo como `Sequential`."
   ]
  },
  {
   "cell_type": "code",
   "execution_count": 158,
   "metadata": {},
   "outputs": [],
   "source": [
    "from tensorflow.keras.models import Sequential\n",
    "\n",
    "modelo = Sequential()"
   ]
  },
  {
   "cell_type": "markdown",
   "metadata": {},
   "source": [
    "Añadimos las capas correspondientes.<br>\n",
    "En nuestra primera capa Densa incluimos con `input_shape` la capa inicial que tendrá 12 neuronas.<br>\n",
    "En esta capa, aplicamos el teorema de Kolmogorov para decidir cuantas neuronas pondremos, puesto que tenemos 12 neuronas de entrada, nuestra capa oculta debe tener entre 1 y 23 neuronas. Probaremos con 16, que es superior a la capa inicial, pero no llegamos al máximo teórico. También es potencia de 2, para optimización de uso de procesadores.<br>\n",
    "Como propiedad de activación elegimos `relu`.<br>\n",
    "Para la última capa que será nuestra salida, como nuestro dato a predecir es binario, incluimos una capa Densa de 1 neurona con activación `sigmoide`."
   ]
  },
  {
   "cell_type": "code",
   "execution_count": 159,
   "metadata": {},
   "outputs": [],
   "source": [
    "from tensorflow.keras.layers import Dense\n",
    "\n",
    "# Primera capa y capa oculta\n",
    "modelo.add(Dense(16, \n",
    "                input_shape=(12,) , \n",
    "                activation='relu',\n",
    "                name='capa_oculta'))\n",
    "\n",
    "# Capa de salida\n",
    "modelo.add(Dense(1, \n",
    "                 activation='sigmoid',\n",
    "                 name='capa_salida'))"
   ]
  },
  {
   "cell_type": "markdown",
   "metadata": {},
   "source": [
    "Veamos como queda gráficamente."
   ]
  },
  {
   "cell_type": "code",
   "execution_count": 160,
   "metadata": {},
   "outputs": [
    {
     "name": "stdout",
     "output_type": "stream",
     "text": [
      "Model: \"sequential_6\"\n",
      "_________________________________________________________________\n",
      " Layer (type)                Output Shape              Param #   \n",
      "=================================================================\n",
      " capa_oculta (Dense)         (None, 16)                208       \n",
      "                                                                 \n",
      " capa_salida (Dense)         (None, 1)                 17        \n",
      "                                                                 \n",
      "=================================================================\n",
      "Total params: 225\n",
      "Trainable params: 225\n",
      "Non-trainable params: 0\n",
      "_________________________________________________________________\n"
     ]
    }
   ],
   "source": [
    "modelo.summary()"
   ]
  },
  {
   "cell_type": "markdown",
   "metadata": {},
   "source": [
    "Configuramos y compilamos la red."
   ]
  },
  {
   "cell_type": "code",
   "execution_count": 161,
   "metadata": {},
   "outputs": [],
   "source": [
    "modelo.compile(\n",
    "    loss='binary_crossentropy',\n",
    "    optimizer='adam',\n",
    "    metrics='accuracy'\n",
    "    )"
   ]
  },
  {
   "cell_type": "markdown",
   "metadata": {},
   "source": [
    "Entrenamos el modelo haciendo 50 pasadas (`epoch`) con un `batch_size` de 2, ya que el número de muestras es solo de 299."
   ]
  },
  {
   "cell_type": "code",
   "execution_count": 162,
   "metadata": {},
   "outputs": [],
   "source": [
    "history = modelo.fit(X_train, y_train,\n",
    "                    validation_data=(X_test, y_test),\n",
    "                    batch_size=2,\n",
    "                    epochs = 50,\n",
    "                    verbose=False)"
   ]
  },
  {
   "cell_type": "markdown",
   "metadata": {},
   "source": [
    "Veamos la evaluación de nuestra red."
   ]
  },
  {
   "cell_type": "code",
   "execution_count": 163,
   "metadata": {},
   "outputs": [
    {
     "name": "stdout",
     "output_type": "stream",
     "text": [
      "Test loss: 0.0002648872905410826\n",
      "Test accuracy: 1.0\n"
     ]
    }
   ],
   "source": [
    "loss, acc = modelo.evaluate(X_test, y_test, verbose=0)\n",
    "print(\"Test loss:\", loss)\n",
    "print(\"Test accuracy:\", acc)\n"
   ]
  },
  {
   "cell_type": "markdown",
   "metadata": {},
   "source": [
    "Tenemos un acierto del 100% con una perdida de casi cero.\n",
    "\n",
    "Mostremos gráficamente la relación entre el acierto y la perdida para ver como de optimizable es la red, visto por cada uno de los `epoch` realizado durante el entrenamiento."
   ]
  },
  {
   "cell_type": "code",
   "execution_count": 164,
   "metadata": {},
   "outputs": [
    {
     "data": {
      "image/png": "[encoded data removed]",
      "text/plain": [
       "<Figure size 432x288 with 1 Axes>"
      ]
     },
     "metadata": {
      "needs_background": "light"
     },
     "output_type": "display_data"
    },
    {
     "data": {
      "image/png": "[encoded data removed]",
      "text/plain": [
       "<Figure size 432x288 with 1 Axes>"
      ]
     },
     "metadata": {
      "needs_background": "light"
     },
     "output_type": "display_data"
    }
   ],
   "source": [
    "import matplotlib.pyplot as plt \n",
    "epochs = len(history.history['loss'])\n",
    "plt.plot(\n",
    "    range(0, epochs), history.history['loss'], \n",
    "    label='loss')\n",
    "plt.plot(\n",
    "    range(0, epochs), history.history['val_loss'], \n",
    "    label='val loss')\n",
    "plt.legend()\n",
    "plt.show()\n",
    "plt.plot(\n",
    "    range(0, epochs), history.history['accuracy'], \n",
    "    label='accuracy')\n",
    "plt.plot(\n",
    "    range(0, epochs), history.history['val_accuracy'], \n",
    "    label='val accuracy')\n",
    "plt.legend()\n",
    "plt.show()\n"
   ]
  },
  {
   "cell_type": "markdown",
   "metadata": {},
   "source": [
    "En nuestro caso, para optimizar la red podríamos bajar el número de `epoch` posiblemente a solo 10, incluso algo menos, ya que el acierto está ya en 1 y es donde se empieza a aplanar la curva de perdida. También podríamos bajar la cantidad de neuronas, es cuestión de ir probando."
   ]
  }
 ],
 "metadata": {
  "interpreter": {
   "hash": "ae1f9380dc869fcbf2a2c0dfd8bc0d714c41c9f5816e912ba371641517bb9234"
  },
  "kernelspec": {
   "display_name": "Python 3.10.0 64-bit",
   "language": "python",
   "name": "python3"
  },
  "language_info": {
   "codemirror_mode": {
    "name": "ipython",
    "version": 3
   },
   "file_extension": ".py",
   "mimetype": "text/x-python",
   "name": "python",
   "nbconvert_exporter": "python",
   "pygments_lexer": "ipython3",
   "version": "3.10.0"
  },
  "orig_nbformat": 4
 },
 "nbformat": 4,
 "nbformat_minor": 2
}
