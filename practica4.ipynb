{
 "cells": [
  {
   "cell_type": "markdown",
   "metadata": {},
   "source": [
    "# Práctica 4\n",
    "### Ánalisis Exploratorio de Datos"
   ]
  },
  {
   "cell_type": "markdown",
   "metadata": {},
   "source": [
    "Cargamos librerías y el fichero de datos"
   ]
  },
  {
   "cell_type": "code",
   "execution_count": 1,
   "metadata": {},
   "outputs": [
    {
     "data": {
      "text/html": [
       "<div>\n",
       "<style scoped>\n",
       "    .dataframe tbody tr th:only-of-type {\n",
       "        vertical-align: middle;\n",
       "    }\n",
       "\n",
       "    .dataframe tbody tr th {\n",
       "        vertical-align: top;\n",
       "    }\n",
       "\n",
       "    .dataframe thead th {\n",
       "        text-align: right;\n",
       "    }\n",
       "</style>\n",
       "<table border=\"1\" class=\"dataframe\">\n",
       "  <thead>\n",
       "    <tr style=\"text-align: right;\">\n",
       "      <th></th>\n",
       "      <th>Unnamed: 0</th>\n",
       "      <th>id</th>\n",
       "      <th>name</th>\n",
       "      <th>host_id</th>\n",
       "      <th>host_name</th>\n",
       "      <th>neighbourhood_group</th>\n",
       "      <th>neighbourhood</th>\n",
       "      <th>latitude</th>\n",
       "      <th>longitude</th>\n",
       "      <th>room_type</th>\n",
       "      <th>price</th>\n",
       "      <th>minimum_nights</th>\n",
       "      <th>number_of_reviews</th>\n",
       "      <th>last_review</th>\n",
       "      <th>reviews_per_month</th>\n",
       "      <th>calculated_host_listings_count</th>\n",
       "      <th>availability_365</th>\n",
       "      <th>week_price</th>\n",
       "      <th>PETS Allowed</th>\n",
       "      <th>swimming pool</th>\n",
       "    </tr>\n",
       "  </thead>\n",
       "  <tbody>\n",
       "    <tr>\n",
       "      <th>0</th>\n",
       "      <td>0</td>\n",
       "      <td>2539</td>\n",
       "      <td>Clean &amp; quiet apt home by the park</td>\n",
       "      <td>2787</td>\n",
       "      <td>John</td>\n",
       "      <td>Brooklyn</td>\n",
       "      <td>Kensington</td>\n",
       "      <td>40.64749</td>\n",
       "      <td>-73.97237</td>\n",
       "      <td>Private room</td>\n",
       "      <td>149</td>\n",
       "      <td>1</td>\n",
       "      <td>9</td>\n",
       "      <td>2018-10-19</td>\n",
       "      <td>0.21</td>\n",
       "      <td>6</td>\n",
       "      <td>365</td>\n",
       "      <td>1043</td>\n",
       "      <td>no</td>\n",
       "      <td>0</td>\n",
       "    </tr>\n",
       "    <tr>\n",
       "      <th>1</th>\n",
       "      <td>1</td>\n",
       "      <td>2595</td>\n",
       "      <td>Skylit Midtown Castle</td>\n",
       "      <td>2845</td>\n",
       "      <td>Jennifer</td>\n",
       "      <td>Manhattan</td>\n",
       "      <td>Midtown</td>\n",
       "      <td>40.75362</td>\n",
       "      <td>-73.98377</td>\n",
       "      <td>Entire home/apt</td>\n",
       "      <td>225</td>\n",
       "      <td>1</td>\n",
       "      <td>45</td>\n",
       "      <td>2019-05-21</td>\n",
       "      <td>0.38</td>\n",
       "      <td>2</td>\n",
       "      <td>355</td>\n",
       "      <td>1575</td>\n",
       "      <td>pets allowed</td>\n",
       "      <td>0</td>\n",
       "    </tr>\n",
       "    <tr>\n",
       "      <th>2</th>\n",
       "      <td>2</td>\n",
       "      <td>3647</td>\n",
       "      <td>THE VILLAGE OF HARLEM....NEW YORK !</td>\n",
       "      <td>4632</td>\n",
       "      <td>Elisabeth</td>\n",
       "      <td>Manhattan</td>\n",
       "      <td>Harlem</td>\n",
       "      <td>40.80902</td>\n",
       "      <td>-73.94190</td>\n",
       "      <td>Private room</td>\n",
       "      <td>150</td>\n",
       "      <td>3</td>\n",
       "      <td>0</td>\n",
       "      <td>NaN</td>\n",
       "      <td>NaN</td>\n",
       "      <td>1</td>\n",
       "      <td>365</td>\n",
       "      <td>1050</td>\n",
       "      <td>no</td>\n",
       "      <td>1</td>\n",
       "    </tr>\n",
       "    <tr>\n",
       "      <th>3</th>\n",
       "      <td>3</td>\n",
       "      <td>3831</td>\n",
       "      <td>Cozy Entire Floor of Brownstone</td>\n",
       "      <td>4869</td>\n",
       "      <td>LisaRoxanne</td>\n",
       "      <td>Brooklyn</td>\n",
       "      <td>Clinton Hill</td>\n",
       "      <td>40.68514</td>\n",
       "      <td>-73.95976</td>\n",
       "      <td>Entire home/apt</td>\n",
       "      <td>89</td>\n",
       "      <td>1</td>\n",
       "      <td>270</td>\n",
       "      <td>2019-07-05</td>\n",
       "      <td>4.64</td>\n",
       "      <td>1</td>\n",
       "      <td>194</td>\n",
       "      <td>623</td>\n",
       "      <td>no</td>\n",
       "      <td>0</td>\n",
       "    </tr>\n",
       "    <tr>\n",
       "      <th>4</th>\n",
       "      <td>4</td>\n",
       "      <td>5022</td>\n",
       "      <td>Entire Apt: Spacious Studio/Loft by central park</td>\n",
       "      <td>7192</td>\n",
       "      <td>Laura</td>\n",
       "      <td>Manhattan</td>\n",
       "      <td>East Harlem</td>\n",
       "      <td>40.79851</td>\n",
       "      <td>-73.94399</td>\n",
       "      <td>Entire home/apt</td>\n",
       "      <td>80</td>\n",
       "      <td>10</td>\n",
       "      <td>9</td>\n",
       "      <td>2018-11-19</td>\n",
       "      <td>0.10</td>\n",
       "      <td>1</td>\n",
       "      <td>0</td>\n",
       "      <td>560</td>\n",
       "      <td>no</td>\n",
       "      <td>0</td>\n",
       "    </tr>\n",
       "  </tbody>\n",
       "</table>\n",
       "</div>"
      ],
      "text/plain": [
       "   Unnamed: 0    id                                              name  \\\n",
       "0           0  2539                Clean & quiet apt home by the park   \n",
       "1           1  2595                             Skylit Midtown Castle   \n",
       "2           2  3647               THE VILLAGE OF HARLEM....NEW YORK !   \n",
       "3           3  3831                   Cozy Entire Floor of Brownstone   \n",
       "4           4  5022  Entire Apt: Spacious Studio/Loft by central park   \n",
       "\n",
       "   host_id    host_name neighbourhood_group neighbourhood  latitude  \\\n",
       "0     2787         John            Brooklyn    Kensington  40.64749   \n",
       "1     2845     Jennifer           Manhattan       Midtown  40.75362   \n",
       "2     4632    Elisabeth           Manhattan        Harlem  40.80902   \n",
       "3     4869  LisaRoxanne            Brooklyn  Clinton Hill  40.68514   \n",
       "4     7192        Laura           Manhattan   East Harlem  40.79851   \n",
       "\n",
       "   longitude        room_type price  minimum_nights  number_of_reviews  \\\n",
       "0  -73.97237     Private room   149               1                  9   \n",
       "1  -73.98377  Entire home/apt   225               1                 45   \n",
       "2  -73.94190     Private room   150               3                  0   \n",
       "3  -73.95976  Entire home/apt    89               1                270   \n",
       "4  -73.94399  Entire home/apt    80              10                  9   \n",
       "\n",
       "  last_review  reviews_per_month  calculated_host_listings_count  \\\n",
       "0  2018-10-19               0.21                               6   \n",
       "1  2019-05-21               0.38                               2   \n",
       "2         NaN                NaN                               1   \n",
       "3  2019-07-05               4.64                               1   \n",
       "4  2018-11-19               0.10                               1   \n",
       "\n",
       "   availability_365 week_price  PETS Allowed swimming pool  \n",
       "0               365       1043            no             0  \n",
       "1               355       1575  pets allowed             0  \n",
       "2               365       1050            no             1  \n",
       "3               194        623            no             0  \n",
       "4                 0        560            no             0  "
      ]
     },
     "execution_count": 1,
     "metadata": {},
     "output_type": "execute_result"
    }
   ],
   "source": [
    "import pandas as pd\n",
    "import numpy as np\n",
    "import matplotlib.pyplot as plt\n",
    "import seaborn as sns\n",
    "\n",
    "df = pd.read_csv('AB_NYC_2019.csv')\n",
    "df.head()"
   ]
  },
  {
   "cell_type": "markdown",
   "metadata": {},
   "source": [
    "### Análisis descriptivo"
   ]
  },
  {
   "cell_type": "code",
   "execution_count": 2,
   "metadata": {},
   "outputs": [
    {
     "data": {
      "text/plain": [
       "(48895, 20)"
      ]
     },
     "execution_count": 2,
     "metadata": {},
     "output_type": "execute_result"
    }
   ],
   "source": [
    "df.shape"
   ]
  },
  {
   "cell_type": "markdown",
   "metadata": {},
   "source": [
    "El dataset tiene 48895 filas y 20 columnas.\n",
    "\n",
    "Vemos las columnas que tiene y sus nombres"
   ]
  },
  {
   "cell_type": "code",
   "execution_count": 3,
   "metadata": {},
   "outputs": [
    {
     "data": {
      "text/plain": [
       "Index(['Unnamed: 0', 'id', 'name', 'host_id', 'host_name',\n",
       "       'neighbourhood_group', 'neighbourhood', 'latitude', 'longitude',\n",
       "       'room_type', 'price', 'minimum_nights', 'number_of_reviews',\n",
       "       'last_review', 'reviews_per_month', 'calculated_host_listings_count',\n",
       "       'availability_365', 'week_price', 'PETS Allowed', 'swimming pool'],\n",
       "      dtype='object')"
      ]
     },
     "execution_count": 3,
     "metadata": {},
     "output_type": "execute_result"
    }
   ],
   "source": [
    "df.columns"
   ]
  },
  {
   "cell_type": "markdown",
   "metadata": {},
   "source": [
    "Homogeneizamos los nombres de las columnas, poniendo en minúsculas y separados por guiones bajos las columnas:\n",
    "`Unnamed: 0`, `PETS Allowed`, `swimming pool`"
   ]
  },
  {
   "cell_type": "code",
   "execution_count": 4,
   "metadata": {},
   "outputs": [
    {
     "data": {
      "text/plain": [
       "Index(['unnamed_0', 'id', 'name', 'host_id', 'host_name',\n",
       "       'neighbourhood_group', 'neighbourhood', 'latitude', 'longitude',\n",
       "       'room_type', 'price', 'minimum_nights', 'number_of_reviews',\n",
       "       'last_review', 'reviews_per_month', 'calculated_host_listings_count',\n",
       "       'availability_365', 'week_price', 'pets_allowed', 'swimming_pool'],\n",
       "      dtype='object')"
      ]
     },
     "execution_count": 4,
     "metadata": {},
     "output_type": "execute_result"
    }
   ],
   "source": [
    "df.rename(columns={'Unnamed: 0':    'unnamed_0',\n",
    "                   'PETS Allowed':  'pets_allowed', \n",
    "                   'swimming pool': 'swimming_pool'},\n",
    "                   inplace=True)\n",
    "df.columns"
   ]
  },
  {
   "cell_type": "markdown",
   "metadata": {},
   "source": [
    "Vemos la información del dataset"
   ]
  },
  {
   "cell_type": "code",
   "execution_count": 5,
   "metadata": {},
   "outputs": [
    {
     "name": "stdout",
     "output_type": "stream",
     "text": [
      "<class 'pandas.core.frame.DataFrame'>\n",
      "RangeIndex: 48895 entries, 0 to 48894\n",
      "Data columns (total 20 columns):\n",
      " #   Column                          Non-Null Count  Dtype  \n",
      "---  ------                          --------------  -----  \n",
      " 0   unnamed_0                       48895 non-null  int64  \n",
      " 1   id                              48895 non-null  int64  \n",
      " 2   name                            48879 non-null  object \n",
      " 3   host_id                         48895 non-null  int64  \n",
      " 4   host_name                       48874 non-null  object \n",
      " 5   neighbourhood_group             48895 non-null  object \n",
      " 6   neighbourhood                   48895 non-null  object \n",
      " 7   latitude                        48895 non-null  float64\n",
      " 8   longitude                       48895 non-null  float64\n",
      " 9   room_type                       48895 non-null  object \n",
      " 10  price                           48895 non-null  object \n",
      " 11  minimum_nights                  48895 non-null  int64  \n",
      " 12  number_of_reviews               48895 non-null  int64  \n",
      " 13  last_review                     38843 non-null  object \n",
      " 14  reviews_per_month               38843 non-null  float64\n",
      " 15  calculated_host_listings_count  48895 non-null  int64  \n",
      " 16  availability_365                48895 non-null  int64  \n",
      " 17  week_price                      48895 non-null  object \n",
      " 18  pets_allowed                    48895 non-null  object \n",
      " 19  swimming_pool                   48895 non-null  object \n",
      "dtypes: float64(3), int64(7), object(10)\n",
      "memory usage: 7.5+ MB\n"
     ]
    }
   ],
   "source": [
    "df.info()"
   ]
  },
  {
   "cell_type": "markdown",
   "metadata": {},
   "source": [
    "Tenemos nulos en los campos: `name`, `host_name`, `last_review`, `reviews_per_month` \n",
    "\n",
    "El campo `price` y `week_price` es Object, cuando un precio debería ser numérico.\n",
    "\n",
    "Como primera aproximación, estos son algunos de los que campos tendrán que estudiarse y tratarse en caso necesario.\n",
    "\n",
    "Vemos los primeros datos traspuestos"
   ]
  },
  {
   "cell_type": "code",
   "execution_count": 6,
   "metadata": {},
   "outputs": [
    {
     "data": {
      "text/html": [
       "<div>\n",
       "<style scoped>\n",
       "    .dataframe tbody tr th:only-of-type {\n",
       "        vertical-align: middle;\n",
       "    }\n",
       "\n",
       "    .dataframe tbody tr th {\n",
       "        vertical-align: top;\n",
       "    }\n",
       "\n",
       "    .dataframe thead th {\n",
       "        text-align: right;\n",
       "    }\n",
       "</style>\n",
       "<table border=\"1\" class=\"dataframe\">\n",
       "  <thead>\n",
       "    <tr style=\"text-align: right;\">\n",
       "      <th></th>\n",
       "      <th>0</th>\n",
       "      <th>1</th>\n",
       "      <th>2</th>\n",
       "      <th>3</th>\n",
       "      <th>4</th>\n",
       "    </tr>\n",
       "  </thead>\n",
       "  <tbody>\n",
       "    <tr>\n",
       "      <th>unnamed_0</th>\n",
       "      <td>0</td>\n",
       "      <td>1</td>\n",
       "      <td>2</td>\n",
       "      <td>3</td>\n",
       "      <td>4</td>\n",
       "    </tr>\n",
       "    <tr>\n",
       "      <th>id</th>\n",
       "      <td>2539</td>\n",
       "      <td>2595</td>\n",
       "      <td>3647</td>\n",
       "      <td>3831</td>\n",
       "      <td>5022</td>\n",
       "    </tr>\n",
       "    <tr>\n",
       "      <th>name</th>\n",
       "      <td>Clean &amp; quiet apt home by the park</td>\n",
       "      <td>Skylit Midtown Castle</td>\n",
       "      <td>THE VILLAGE OF HARLEM....NEW YORK !</td>\n",
       "      <td>Cozy Entire Floor of Brownstone</td>\n",
       "      <td>Entire Apt: Spacious Studio/Loft by central park</td>\n",
       "    </tr>\n",
       "    <tr>\n",
       "      <th>host_id</th>\n",
       "      <td>2787</td>\n",
       "      <td>2845</td>\n",
       "      <td>4632</td>\n",
       "      <td>4869</td>\n",
       "      <td>7192</td>\n",
       "    </tr>\n",
       "    <tr>\n",
       "      <th>host_name</th>\n",
       "      <td>John</td>\n",
       "      <td>Jennifer</td>\n",
       "      <td>Elisabeth</td>\n",
       "      <td>LisaRoxanne</td>\n",
       "      <td>Laura</td>\n",
       "    </tr>\n",
       "    <tr>\n",
       "      <th>neighbourhood_group</th>\n",
       "      <td>Brooklyn</td>\n",
       "      <td>Manhattan</td>\n",
       "      <td>Manhattan</td>\n",
       "      <td>Brooklyn</td>\n",
       "      <td>Manhattan</td>\n",
       "    </tr>\n",
       "    <tr>\n",
       "      <th>neighbourhood</th>\n",
       "      <td>Kensington</td>\n",
       "      <td>Midtown</td>\n",
       "      <td>Harlem</td>\n",
       "      <td>Clinton Hill</td>\n",
       "      <td>East Harlem</td>\n",
       "    </tr>\n",
       "    <tr>\n",
       "      <th>latitude</th>\n",
       "      <td>40.64749</td>\n",
       "      <td>40.75362</td>\n",
       "      <td>40.80902</td>\n",
       "      <td>40.68514</td>\n",
       "      <td>40.79851</td>\n",
       "    </tr>\n",
       "    <tr>\n",
       "      <th>longitude</th>\n",
       "      <td>-73.97237</td>\n",
       "      <td>-73.98377</td>\n",
       "      <td>-73.9419</td>\n",
       "      <td>-73.95976</td>\n",
       "      <td>-73.94399</td>\n",
       "    </tr>\n",
       "    <tr>\n",
       "      <th>room_type</th>\n",
       "      <td>Private room</td>\n",
       "      <td>Entire home/apt</td>\n",
       "      <td>Private room</td>\n",
       "      <td>Entire home/apt</td>\n",
       "      <td>Entire home/apt</td>\n",
       "    </tr>\n",
       "    <tr>\n",
       "      <th>price</th>\n",
       "      <td>149</td>\n",
       "      <td>225</td>\n",
       "      <td>150</td>\n",
       "      <td>89</td>\n",
       "      <td>80</td>\n",
       "    </tr>\n",
       "    <tr>\n",
       "      <th>minimum_nights</th>\n",
       "      <td>1</td>\n",
       "      <td>1</td>\n",
       "      <td>3</td>\n",
       "      <td>1</td>\n",
       "      <td>10</td>\n",
       "    </tr>\n",
       "    <tr>\n",
       "      <th>number_of_reviews</th>\n",
       "      <td>9</td>\n",
       "      <td>45</td>\n",
       "      <td>0</td>\n",
       "      <td>270</td>\n",
       "      <td>9</td>\n",
       "    </tr>\n",
       "    <tr>\n",
       "      <th>last_review</th>\n",
       "      <td>2018-10-19</td>\n",
       "      <td>2019-05-21</td>\n",
       "      <td>NaN</td>\n",
       "      <td>2019-07-05</td>\n",
       "      <td>2018-11-19</td>\n",
       "    </tr>\n",
       "    <tr>\n",
       "      <th>reviews_per_month</th>\n",
       "      <td>0.21</td>\n",
       "      <td>0.38</td>\n",
       "      <td>NaN</td>\n",
       "      <td>4.64</td>\n",
       "      <td>0.1</td>\n",
       "    </tr>\n",
       "    <tr>\n",
       "      <th>calculated_host_listings_count</th>\n",
       "      <td>6</td>\n",
       "      <td>2</td>\n",
       "      <td>1</td>\n",
       "      <td>1</td>\n",
       "      <td>1</td>\n",
       "    </tr>\n",
       "    <tr>\n",
       "      <th>availability_365</th>\n",
       "      <td>365</td>\n",
       "      <td>355</td>\n",
       "      <td>365</td>\n",
       "      <td>194</td>\n",
       "      <td>0</td>\n",
       "    </tr>\n",
       "    <tr>\n",
       "      <th>week_price</th>\n",
       "      <td>1043</td>\n",
       "      <td>1575</td>\n",
       "      <td>1050</td>\n",
       "      <td>623</td>\n",
       "      <td>560</td>\n",
       "    </tr>\n",
       "    <tr>\n",
       "      <th>pets_allowed</th>\n",
       "      <td>no</td>\n",
       "      <td>pets allowed</td>\n",
       "      <td>no</td>\n",
       "      <td>no</td>\n",
       "      <td>no</td>\n",
       "    </tr>\n",
       "    <tr>\n",
       "      <th>swimming_pool</th>\n",
       "      <td>0</td>\n",
       "      <td>0</td>\n",
       "      <td>1</td>\n",
       "      <td>0</td>\n",
       "      <td>0</td>\n",
       "    </tr>\n",
       "  </tbody>\n",
       "</table>\n",
       "</div>"
      ],
      "text/plain": [
       "                                                                 0  \\\n",
       "unnamed_0                                                        0   \n",
       "id                                                            2539   \n",
       "name                            Clean & quiet apt home by the park   \n",
       "host_id                                                       2787   \n",
       "host_name                                                     John   \n",
       "neighbourhood_group                                       Brooklyn   \n",
       "neighbourhood                                           Kensington   \n",
       "latitude                                                  40.64749   \n",
       "longitude                                                -73.97237   \n",
       "room_type                                             Private room   \n",
       "price                                                          149   \n",
       "minimum_nights                                                   1   \n",
       "number_of_reviews                                                9   \n",
       "last_review                                             2018-10-19   \n",
       "reviews_per_month                                             0.21   \n",
       "calculated_host_listings_count                                   6   \n",
       "availability_365                                               365   \n",
       "week_price                                                    1043   \n",
       "pets_allowed                                                    no   \n",
       "swimming_pool                                                    0   \n",
       "\n",
       "                                                    1  \\\n",
       "unnamed_0                                           1   \n",
       "id                                               2595   \n",
       "name                            Skylit Midtown Castle   \n",
       "host_id                                          2845   \n",
       "host_name                                    Jennifer   \n",
       "neighbourhood_group                         Manhattan   \n",
       "neighbourhood                                 Midtown   \n",
       "latitude                                     40.75362   \n",
       "longitude                                   -73.98377   \n",
       "room_type                             Entire home/apt   \n",
       "price                                             225   \n",
       "minimum_nights                                      1   \n",
       "number_of_reviews                                  45   \n",
       "last_review                                2019-05-21   \n",
       "reviews_per_month                                0.38   \n",
       "calculated_host_listings_count                      2   \n",
       "availability_365                                  355   \n",
       "week_price                                       1575   \n",
       "pets_allowed                             pets allowed   \n",
       "swimming_pool                                       0   \n",
       "\n",
       "                                                                  2  \\\n",
       "unnamed_0                                                         2   \n",
       "id                                                             3647   \n",
       "name                            THE VILLAGE OF HARLEM....NEW YORK !   \n",
       "host_id                                                        4632   \n",
       "host_name                                                 Elisabeth   \n",
       "neighbourhood_group                                       Manhattan   \n",
       "neighbourhood                                                Harlem   \n",
       "latitude                                                   40.80902   \n",
       "longitude                                                  -73.9419   \n",
       "room_type                                              Private room   \n",
       "price                                                           150   \n",
       "minimum_nights                                                    3   \n",
       "number_of_reviews                                                 0   \n",
       "last_review                                                     NaN   \n",
       "reviews_per_month                                               NaN   \n",
       "calculated_host_listings_count                                    1   \n",
       "availability_365                                                365   \n",
       "week_price                                                     1050   \n",
       "pets_allowed                                                     no   \n",
       "swimming_pool                                                     1   \n",
       "\n",
       "                                                              3  \\\n",
       "unnamed_0                                                     3   \n",
       "id                                                         3831   \n",
       "name                            Cozy Entire Floor of Brownstone   \n",
       "host_id                                                    4869   \n",
       "host_name                                           LisaRoxanne   \n",
       "neighbourhood_group                                    Brooklyn   \n",
       "neighbourhood                                      Clinton Hill   \n",
       "latitude                                               40.68514   \n",
       "longitude                                             -73.95976   \n",
       "room_type                                       Entire home/apt   \n",
       "price                                                        89   \n",
       "minimum_nights                                                1   \n",
       "number_of_reviews                                           270   \n",
       "last_review                                          2019-07-05   \n",
       "reviews_per_month                                          4.64   \n",
       "calculated_host_listings_count                                1   \n",
       "availability_365                                            194   \n",
       "week_price                                                  623   \n",
       "pets_allowed                                                 no   \n",
       "swimming_pool                                                 0   \n",
       "\n",
       "                                                                               4  \n",
       "unnamed_0                                                                      4  \n",
       "id                                                                          5022  \n",
       "name                            Entire Apt: Spacious Studio/Loft by central park  \n",
       "host_id                                                                     7192  \n",
       "host_name                                                                  Laura  \n",
       "neighbourhood_group                                                    Manhattan  \n",
       "neighbourhood                                                        East Harlem  \n",
       "latitude                                                                40.79851  \n",
       "longitude                                                              -73.94399  \n",
       "room_type                                                        Entire home/apt  \n",
       "price                                                                         80  \n",
       "minimum_nights                                                                10  \n",
       "number_of_reviews                                                              9  \n",
       "last_review                                                           2018-11-19  \n",
       "reviews_per_month                                                            0.1  \n",
       "calculated_host_listings_count                                                 1  \n",
       "availability_365                                                               0  \n",
       "week_price                                                                   560  \n",
       "pets_allowed                                                                  no  \n",
       "swimming_pool                                                                  0  "
      ]
     },
     "execution_count": 6,
     "metadata": {},
     "output_type": "execute_result"
    }
   ],
   "source": [
    "df.head().T"
   ]
  },
  {
   "cell_type": "markdown",
   "metadata": {},
   "source": [
    "Mostramos los datos estadísticos de las columnas númericas"
   ]
  },
  {
   "cell_type": "code",
   "execution_count": 7,
   "metadata": {},
   "outputs": [
    {
     "data": {
      "text/html": [
       "<div>\n",
       "<style scoped>\n",
       "    .dataframe tbody tr th:only-of-type {\n",
       "        vertical-align: middle;\n",
       "    }\n",
       "\n",
       "    .dataframe tbody tr th {\n",
       "        vertical-align: top;\n",
       "    }\n",
       "\n",
       "    .dataframe thead th {\n",
       "        text-align: right;\n",
       "    }\n",
       "</style>\n",
       "<table border=\"1\" class=\"dataframe\">\n",
       "  <thead>\n",
       "    <tr style=\"text-align: right;\">\n",
       "      <th></th>\n",
       "      <th>unnamed_0</th>\n",
       "      <th>id</th>\n",
       "      <th>host_id</th>\n",
       "      <th>latitude</th>\n",
       "      <th>longitude</th>\n",
       "      <th>minimum_nights</th>\n",
       "      <th>number_of_reviews</th>\n",
       "      <th>reviews_per_month</th>\n",
       "      <th>calculated_host_listings_count</th>\n",
       "      <th>availability_365</th>\n",
       "    </tr>\n",
       "  </thead>\n",
       "  <tbody>\n",
       "    <tr>\n",
       "      <th>count</th>\n",
       "      <td>48895.000000</td>\n",
       "      <td>4.889500e+04</td>\n",
       "      <td>4.889500e+04</td>\n",
       "      <td>48895.000000</td>\n",
       "      <td>48895.000000</td>\n",
       "      <td>48895.000000</td>\n",
       "      <td>48895.000000</td>\n",
       "      <td>38843.000000</td>\n",
       "      <td>48895.000000</td>\n",
       "      <td>48895.000000</td>\n",
       "    </tr>\n",
       "    <tr>\n",
       "      <th>mean</th>\n",
       "      <td>24447.000000</td>\n",
       "      <td>1.901714e+07</td>\n",
       "      <td>6.762001e+07</td>\n",
       "      <td>40.728949</td>\n",
       "      <td>-73.952170</td>\n",
       "      <td>7.028715</td>\n",
       "      <td>23.274466</td>\n",
       "      <td>1.373221</td>\n",
       "      <td>8.127927</td>\n",
       "      <td>112.927150</td>\n",
       "    </tr>\n",
       "    <tr>\n",
       "      <th>std</th>\n",
       "      <td>14114.915043</td>\n",
       "      <td>1.098311e+07</td>\n",
       "      <td>7.861097e+07</td>\n",
       "      <td>0.054530</td>\n",
       "      <td>0.046157</td>\n",
       "      <td>20.510577</td>\n",
       "      <td>44.550582</td>\n",
       "      <td>1.680442</td>\n",
       "      <td>41.913868</td>\n",
       "      <td>131.814178</td>\n",
       "    </tr>\n",
       "    <tr>\n",
       "      <th>min</th>\n",
       "      <td>0.000000</td>\n",
       "      <td>2.539000e+03</td>\n",
       "      <td>2.438000e+03</td>\n",
       "      <td>40.499790</td>\n",
       "      <td>-74.244420</td>\n",
       "      <td>-5.000000</td>\n",
       "      <td>0.000000</td>\n",
       "      <td>0.010000</td>\n",
       "      <td>1.000000</td>\n",
       "      <td>0.000000</td>\n",
       "    </tr>\n",
       "    <tr>\n",
       "      <th>25%</th>\n",
       "      <td>12223.500000</td>\n",
       "      <td>9.471945e+06</td>\n",
       "      <td>7.822033e+06</td>\n",
       "      <td>40.690100</td>\n",
       "      <td>-73.983070</td>\n",
       "      <td>1.000000</td>\n",
       "      <td>1.000000</td>\n",
       "      <td>0.190000</td>\n",
       "      <td>1.000000</td>\n",
       "      <td>0.000000</td>\n",
       "    </tr>\n",
       "    <tr>\n",
       "      <th>50%</th>\n",
       "      <td>24447.000000</td>\n",
       "      <td>1.967728e+07</td>\n",
       "      <td>3.079382e+07</td>\n",
       "      <td>40.723070</td>\n",
       "      <td>-73.955680</td>\n",
       "      <td>3.000000</td>\n",
       "      <td>5.000000</td>\n",
       "      <td>0.720000</td>\n",
       "      <td>1.000000</td>\n",
       "      <td>45.000000</td>\n",
       "    </tr>\n",
       "    <tr>\n",
       "      <th>75%</th>\n",
       "      <td>36670.500000</td>\n",
       "      <td>2.915218e+07</td>\n",
       "      <td>1.074344e+08</td>\n",
       "      <td>40.763115</td>\n",
       "      <td>-73.936275</td>\n",
       "      <td>5.000000</td>\n",
       "      <td>24.000000</td>\n",
       "      <td>2.020000</td>\n",
       "      <td>2.000000</td>\n",
       "      <td>227.000000</td>\n",
       "    </tr>\n",
       "    <tr>\n",
       "      <th>max</th>\n",
       "      <td>48894.000000</td>\n",
       "      <td>3.648724e+07</td>\n",
       "      <td>2.743213e+08</td>\n",
       "      <td>40.913060</td>\n",
       "      <td>-73.712990</td>\n",
       "      <td>1250.000000</td>\n",
       "      <td>629.000000</td>\n",
       "      <td>58.500000</td>\n",
       "      <td>987.000000</td>\n",
       "      <td>556.000000</td>\n",
       "    </tr>\n",
       "  </tbody>\n",
       "</table>\n",
       "</div>"
      ],
      "text/plain": [
       "          unnamed_0            id       host_id      latitude     longitude  \\\n",
       "count  48895.000000  4.889500e+04  4.889500e+04  48895.000000  48895.000000   \n",
       "mean   24447.000000  1.901714e+07  6.762001e+07     40.728949    -73.952170   \n",
       "std    14114.915043  1.098311e+07  7.861097e+07      0.054530      0.046157   \n",
       "min        0.000000  2.539000e+03  2.438000e+03     40.499790    -74.244420   \n",
       "25%    12223.500000  9.471945e+06  7.822033e+06     40.690100    -73.983070   \n",
       "50%    24447.000000  1.967728e+07  3.079382e+07     40.723070    -73.955680   \n",
       "75%    36670.500000  2.915218e+07  1.074344e+08     40.763115    -73.936275   \n",
       "max    48894.000000  3.648724e+07  2.743213e+08     40.913060    -73.712990   \n",
       "\n",
       "       minimum_nights  number_of_reviews  reviews_per_month  \\\n",
       "count    48895.000000       48895.000000       38843.000000   \n",
       "mean         7.028715          23.274466           1.373221   \n",
       "std         20.510577          44.550582           1.680442   \n",
       "min         -5.000000           0.000000           0.010000   \n",
       "25%          1.000000           1.000000           0.190000   \n",
       "50%          3.000000           5.000000           0.720000   \n",
       "75%          5.000000          24.000000           2.020000   \n",
       "max       1250.000000         629.000000          58.500000   \n",
       "\n",
       "       calculated_host_listings_count  availability_365  \n",
       "count                    48895.000000      48895.000000  \n",
       "mean                         8.127927        112.927150  \n",
       "std                         41.913868        131.814178  \n",
       "min                          1.000000          0.000000  \n",
       "25%                          1.000000          0.000000  \n",
       "50%                          1.000000         45.000000  \n",
       "75%                          2.000000        227.000000  \n",
       "max                        987.000000        556.000000  "
      ]
     },
     "execution_count": 7,
     "metadata": {},
     "output_type": "execute_result"
    }
   ],
   "source": [
    "df.describe()"
   ]
  },
  {
   "cell_type": "markdown",
   "metadata": {},
   "source": [
    "Veamos gráficamente sus distribuciones en histogramas"
   ]
  },
  {
   "cell_type": "code",
   "execution_count": 8,
   "metadata": {},
   "outputs": [
    {
     "data": {
      "image/png": "[encoded data removed]",
      "text/plain": [
       "<Figure size 1440x720 with 10 Axes>"
      ]
     },
     "metadata": {
      "needs_background": "light"
     },
     "output_type": "display_data"
    }
   ],
   "source": [
    "columnas = df.select_dtypes(exclude='object').columns\n",
    "num_col = len(columnas)\n",
    "\n",
    "from math import ceil\n",
    "numero_columnas_plot = 5\n",
    "numero_filas_plot = ceil(num_col/numero_columnas_plot)\n",
    "\n",
    "fig = plt.figure(figsize=(20, 10))\n",
    "\n",
    "for col,i in zip(columnas,range(num_col)):\n",
    "    ax = fig.add_subplot(numero_filas_plot, numero_columnas_plot, i+1)\n",
    "    plt.hist(df[col])\n",
    "    plt.title(col)\n",
    "plt.show()"
   ]
  },
  {
   "cell_type": "markdown",
   "metadata": {},
   "source": [
    "`unnamed_0` tiene una distribución uniforme, con valores que seguramente sean iguales al índice del dataset.<br>\n",
    "`id` y `host_id` son códigos de identificación de la aplicación, por lo que aún siendo uniformes o con valores predominantes, sus valores pueden considerarse como etiquetas y no tendrán carácter estadístico.<br>\n",
    "`latitude` y `longitud`, tienen una forma de 'distribución normal', ya que los datos pertenecen a la ciudad de Nueva York, por lo que están muy cercanos estos valores y muy localizados.<br>\n",
    "El resto de columnas, tienen un valor muy alto en los valores cercanos al mínimo, decayendo conforme nos movemos hacía los valores máximos, en algunos casos, incluso siendo prácticamente inapreciables."
   ]
  },
  {
   "cell_type": "markdown",
   "metadata": {},
   "source": [
    "### Tipos de variables"
   ]
  },
  {
   "cell_type": "code",
   "execution_count": 9,
   "metadata": {},
   "outputs": [
    {
     "data": {
      "text/plain": [
       "unnamed_0                           int64\n",
       "id                                  int64\n",
       "name                               object\n",
       "host_id                             int64\n",
       "host_name                          object\n",
       "neighbourhood_group                object\n",
       "neighbourhood                      object\n",
       "latitude                          float64\n",
       "longitude                         float64\n",
       "room_type                          object\n",
       "price                              object\n",
       "minimum_nights                      int64\n",
       "number_of_reviews                   int64\n",
       "last_review                        object\n",
       "reviews_per_month                 float64\n",
       "calculated_host_listings_count      int64\n",
       "availability_365                    int64\n",
       "week_price                         object\n",
       "pets_allowed                       object\n",
       "swimming_pool                      object\n",
       "dtype: object"
      ]
     },
     "execution_count": 9,
     "metadata": {},
     "output_type": "execute_result"
    }
   ],
   "source": [
    "df.dtypes"
   ]
  },
  {
   "cell_type": "markdown",
   "metadata": {},
   "source": [
    "Cambiamos el tipo de dato de price y week_price a numerico"
   ]
  },
  {
   "cell_type": "code",
   "execution_count": 10,
   "metadata": {},
   "outputs": [
    {
     "data": {
      "text/html": [
       "<div>\n",
       "<style scoped>\n",
       "    .dataframe tbody tr th:only-of-type {\n",
       "        vertical-align: middle;\n",
       "    }\n",
       "\n",
       "    .dataframe tbody tr th {\n",
       "        vertical-align: top;\n",
       "    }\n",
       "\n",
       "    .dataframe thead th {\n",
       "        text-align: right;\n",
       "    }\n",
       "</style>\n",
       "<table border=\"1\" class=\"dataframe\">\n",
       "  <thead>\n",
       "    <tr style=\"text-align: right;\">\n",
       "      <th></th>\n",
       "      <th>unnamed_0</th>\n",
       "      <th>id</th>\n",
       "      <th>name</th>\n",
       "      <th>host_id</th>\n",
       "      <th>host_name</th>\n",
       "      <th>neighbourhood_group</th>\n",
       "      <th>neighbourhood</th>\n",
       "      <th>latitude</th>\n",
       "      <th>longitude</th>\n",
       "      <th>room_type</th>\n",
       "      <th>price</th>\n",
       "      <th>minimum_nights</th>\n",
       "      <th>number_of_reviews</th>\n",
       "      <th>last_review</th>\n",
       "      <th>reviews_per_month</th>\n",
       "      <th>calculated_host_listings_count</th>\n",
       "      <th>availability_365</th>\n",
       "      <th>week_price</th>\n",
       "      <th>pets_allowed</th>\n",
       "      <th>swimming_pool</th>\n",
       "    </tr>\n",
       "  </thead>\n",
       "  <tbody>\n",
       "    <tr>\n",
       "      <th>207</th>\n",
       "      <td>207</td>\n",
       "      <td>54626</td>\n",
       "      <td>Cozy bedroom by Yankee Stadium</td>\n",
       "      <td>190409</td>\n",
       "      <td>Waundell</td>\n",
       "      <td>Bronx</td>\n",
       "      <td>Highbridge</td>\n",
       "      <td>40.83075</td>\n",
       "      <td>-73.93058</td>\n",
       "      <td>Private room</td>\n",
       "      <td>-</td>\n",
       "      <td>1</td>\n",
       "      <td>138</td>\n",
       "      <td>2019-06-30</td>\n",
       "      <td>1.45</td>\n",
       "      <td>3</td>\n",
       "      <td>323</td>\n",
       "      <td>-</td>\n",
       "      <td>no</td>\n",
       "      <td>0</td>\n",
       "    </tr>\n",
       "    <tr>\n",
       "      <th>421</th>\n",
       "      <td>421</td>\n",
       "      <td>142069</td>\n",
       "      <td>EAST VILLAGE STUDIO, sunny &amp; quiet</td>\n",
       "      <td>277747</td>\n",
       "      <td>Josh</td>\n",
       "      <td>Manhattan</td>\n",
       "      <td>East Village</td>\n",
       "      <td>40.72485</td>\n",
       "      <td>-73.97813</td>\n",
       "      <td>Entire home/apt</td>\n",
       "      <td>-</td>\n",
       "      <td>4</td>\n",
       "      <td>22</td>\n",
       "      <td>2014-11-10</td>\n",
       "      <td>0.23</td>\n",
       "      <td>1</td>\n",
       "      <td>0</td>\n",
       "      <td>-</td>\n",
       "      <td>no</td>\n",
       "      <td>0</td>\n",
       "    </tr>\n",
       "    <tr>\n",
       "      <th>776</th>\n",
       "      <td>776</td>\n",
       "      <td>278145</td>\n",
       "      <td>Large Room in a Huge NY apartment.</td>\n",
       "      <td>1452026</td>\n",
       "      <td>Heidi</td>\n",
       "      <td>Queens</td>\n",
       "      <td>Astoria</td>\n",
       "      <td>40.77117</td>\n",
       "      <td>-73.91905</td>\n",
       "      <td>Private room</td>\n",
       "      <td>-</td>\n",
       "      <td>5</td>\n",
       "      <td>3</td>\n",
       "      <td>2017-06-20</td>\n",
       "      <td>0.03</td>\n",
       "      <td>1</td>\n",
       "      <td>0</td>\n",
       "      <td>-</td>\n",
       "      <td>no</td>\n",
       "      <td>0</td>\n",
       "    </tr>\n",
       "    <tr>\n",
       "      <th>854</th>\n",
       "      <td>854</td>\n",
       "      <td>299699</td>\n",
       "      <td>Sunny apartment  in Greenpoint</td>\n",
       "      <td>1557998</td>\n",
       "      <td>Eliza</td>\n",
       "      <td>Brooklyn</td>\n",
       "      <td>Greenpoint</td>\n",
       "      <td>40.72582</td>\n",
       "      <td>-73.95843</td>\n",
       "      <td>Entire home/apt</td>\n",
       "      <td>-</td>\n",
       "      <td>4</td>\n",
       "      <td>9</td>\n",
       "      <td>2018-04-02</td>\n",
       "      <td>0.10</td>\n",
       "      <td>1</td>\n",
       "      <td>188</td>\n",
       "      <td>-</td>\n",
       "      <td>no</td>\n",
       "      <td>1</td>\n",
       "    </tr>\n",
       "    <tr>\n",
       "      <th>1100</th>\n",
       "      <td>1100</td>\n",
       "      <td>466277</td>\n",
       "      <td>W'burg 2 bedroom w/ yard &amp; laundry, 5 mins to L</td>\n",
       "      <td>815977</td>\n",
       "      <td>Ryan</td>\n",
       "      <td>Brooklyn</td>\n",
       "      <td>Williamsburg</td>\n",
       "      <td>40.71110</td>\n",
       "      <td>-73.94643</td>\n",
       "      <td>Entire home/apt</td>\n",
       "      <td>-</td>\n",
       "      <td>3</td>\n",
       "      <td>108</td>\n",
       "      <td>2019-07-02</td>\n",
       "      <td>1.25</td>\n",
       "      <td>2</td>\n",
       "      <td>144</td>\n",
       "      <td>-</td>\n",
       "      <td>yes</td>\n",
       "      <td>-</td>\n",
       "    </tr>\n",
       "    <tr>\n",
       "      <th>...</th>\n",
       "      <td>...</td>\n",
       "      <td>...</td>\n",
       "      <td>...</td>\n",
       "      <td>...</td>\n",
       "      <td>...</td>\n",
       "      <td>...</td>\n",
       "      <td>...</td>\n",
       "      <td>...</td>\n",
       "      <td>...</td>\n",
       "      <td>...</td>\n",
       "      <td>...</td>\n",
       "      <td>...</td>\n",
       "      <td>...</td>\n",
       "      <td>...</td>\n",
       "      <td>...</td>\n",
       "      <td>...</td>\n",
       "      <td>...</td>\n",
       "      <td>...</td>\n",
       "      <td>...</td>\n",
       "      <td>...</td>\n",
       "    </tr>\n",
       "    <tr>\n",
       "      <th>46905</th>\n",
       "      <td>46905</td>\n",
       "      <td>35484662</td>\n",
       "      <td>Cozy bedroom in Astoria next to subway</td>\n",
       "      <td>243367528</td>\n",
       "      <td>Lucca &amp; Paula</td>\n",
       "      <td>Queens</td>\n",
       "      <td>Astoria</td>\n",
       "      <td>40.76599</td>\n",
       "      <td>-73.91225</td>\n",
       "      <td>Private room</td>\n",
       "      <td>-</td>\n",
       "      <td>1</td>\n",
       "      <td>9</td>\n",
       "      <td>2019-07-01</td>\n",
       "      <td>9.00</td>\n",
       "      <td>7</td>\n",
       "      <td>253</td>\n",
       "      <td>-</td>\n",
       "      <td>pets allowed</td>\n",
       "      <td>-</td>\n",
       "    </tr>\n",
       "    <tr>\n",
       "      <th>47004</th>\n",
       "      <td>47004</td>\n",
       "      <td>35540762</td>\n",
       "      <td>驿站</td>\n",
       "      <td>239139334</td>\n",
       "      <td>Fang</td>\n",
       "      <td>Queens</td>\n",
       "      <td>Bayside</td>\n",
       "      <td>40.76883</td>\n",
       "      <td>-73.78707</td>\n",
       "      <td>Private room</td>\n",
       "      <td>-</td>\n",
       "      <td>1</td>\n",
       "      <td>4</td>\n",
       "      <td>2019-07-08</td>\n",
       "      <td>4.00</td>\n",
       "      <td>3</td>\n",
       "      <td>345</td>\n",
       "      <td>-</td>\n",
       "      <td>no</td>\n",
       "      <td>0</td>\n",
       "    </tr>\n",
       "    <tr>\n",
       "      <th>47245</th>\n",
       "      <td>47245</td>\n",
       "      <td>35653043</td>\n",
       "      <td>Steps from Central Park, private bdrm, 2 full ...</td>\n",
       "      <td>93533725</td>\n",
       "      <td>Christine</td>\n",
       "      <td>Manhattan</td>\n",
       "      <td>Midtown</td>\n",
       "      <td>40.76465</td>\n",
       "      <td>-73.98155</td>\n",
       "      <td>Private room</td>\n",
       "      <td>-</td>\n",
       "      <td>2</td>\n",
       "      <td>0</td>\n",
       "      <td>NaN</td>\n",
       "      <td>NaN</td>\n",
       "      <td>1</td>\n",
       "      <td>38</td>\n",
       "      <td>-</td>\n",
       "      <td>we love pets</td>\n",
       "      <td>0</td>\n",
       "    </tr>\n",
       "    <tr>\n",
       "      <th>47632</th>\n",
       "      <td>47632</td>\n",
       "      <td>35839810</td>\n",
       "      <td>Private Bedroom in Bushwick Townhouse</td>\n",
       "      <td>6237789</td>\n",
       "      <td>Pierrick</td>\n",
       "      <td>Brooklyn</td>\n",
       "      <td>Bushwick</td>\n",
       "      <td>40.69209</td>\n",
       "      <td>-73.91882</td>\n",
       "      <td>Private room</td>\n",
       "      <td>-</td>\n",
       "      <td>7</td>\n",
       "      <td>1</td>\n",
       "      <td>2019-06-29</td>\n",
       "      <td>1.00</td>\n",
       "      <td>1</td>\n",
       "      <td>18</td>\n",
       "      <td>-</td>\n",
       "      <td>no</td>\n",
       "      <td>0</td>\n",
       "    </tr>\n",
       "    <tr>\n",
       "      <th>48692</th>\n",
       "      <td>48692</td>\n",
       "      <td>36386298</td>\n",
       "      <td>Spacious 3 Bedroom Duplex w/ Huge Backyard</td>\n",
       "      <td>273596828</td>\n",
       "      <td>Enoma</td>\n",
       "      <td>Brooklyn</td>\n",
       "      <td>Bedford-Stuyvesant</td>\n",
       "      <td>40.67959</td>\n",
       "      <td>-73.94987</td>\n",
       "      <td>Entire home/apt</td>\n",
       "      <td>-</td>\n",
       "      <td>3</td>\n",
       "      <td>0</td>\n",
       "      <td>NaN</td>\n",
       "      <td>NaN</td>\n",
       "      <td>1</td>\n",
       "      <td>133</td>\n",
       "      <td>-</td>\n",
       "      <td>no</td>\n",
       "      <td>0</td>\n",
       "    </tr>\n",
       "  </tbody>\n",
       "</table>\n",
       "<p>123 rows × 20 columns</p>\n",
       "</div>"
      ],
      "text/plain": [
       "       unnamed_0        id                                               name  \\\n",
       "207          207     54626                     Cozy bedroom by Yankee Stadium   \n",
       "421          421    142069                 EAST VILLAGE STUDIO, sunny & quiet   \n",
       "776          776    278145                 Large Room in a Huge NY apartment.   \n",
       "854          854    299699                     Sunny apartment  in Greenpoint   \n",
       "1100        1100    466277    W'burg 2 bedroom w/ yard & laundry, 5 mins to L   \n",
       "...          ...       ...                                                ...   \n",
       "46905      46905  35484662             Cozy bedroom in Astoria next to subway   \n",
       "47004      47004  35540762                                                 驿站   \n",
       "47245      47245  35653043  Steps from Central Park, private bdrm, 2 full ...   \n",
       "47632      47632  35839810              Private Bedroom in Bushwick Townhouse   \n",
       "48692      48692  36386298         Spacious 3 Bedroom Duplex w/ Huge Backyard   \n",
       "\n",
       "         host_id      host_name neighbourhood_group       neighbourhood  \\\n",
       "207       190409       Waundell               Bronx          Highbridge   \n",
       "421       277747           Josh           Manhattan        East Village   \n",
       "776      1452026          Heidi              Queens             Astoria   \n",
       "854      1557998          Eliza            Brooklyn          Greenpoint   \n",
       "1100      815977           Ryan            Brooklyn        Williamsburg   \n",
       "...          ...            ...                 ...                 ...   \n",
       "46905  243367528  Lucca & Paula              Queens             Astoria   \n",
       "47004  239139334           Fang              Queens             Bayside   \n",
       "47245   93533725      Christine           Manhattan             Midtown   \n",
       "47632    6237789       Pierrick            Brooklyn            Bushwick   \n",
       "48692  273596828          Enoma            Brooklyn  Bedford-Stuyvesant   \n",
       "\n",
       "       latitude  longitude        room_type price  minimum_nights  \\\n",
       "207    40.83075  -73.93058     Private room     -               1   \n",
       "421    40.72485  -73.97813  Entire home/apt     -               4   \n",
       "776    40.77117  -73.91905     Private room     -               5   \n",
       "854    40.72582  -73.95843  Entire home/apt     -               4   \n",
       "1100   40.71110  -73.94643  Entire home/apt     -               3   \n",
       "...         ...        ...              ...   ...             ...   \n",
       "46905  40.76599  -73.91225     Private room     -               1   \n",
       "47004  40.76883  -73.78707     Private room     -               1   \n",
       "47245  40.76465  -73.98155     Private room     -               2   \n",
       "47632  40.69209  -73.91882     Private room     -               7   \n",
       "48692  40.67959  -73.94987  Entire home/apt     -               3   \n",
       "\n",
       "       number_of_reviews last_review  reviews_per_month  \\\n",
       "207                  138  2019-06-30               1.45   \n",
       "421                   22  2014-11-10               0.23   \n",
       "776                    3  2017-06-20               0.03   \n",
       "854                    9  2018-04-02               0.10   \n",
       "1100                 108  2019-07-02               1.25   \n",
       "...                  ...         ...                ...   \n",
       "46905                  9  2019-07-01               9.00   \n",
       "47004                  4  2019-07-08               4.00   \n",
       "47245                  0         NaN                NaN   \n",
       "47632                  1  2019-06-29               1.00   \n",
       "48692                  0         NaN                NaN   \n",
       "\n",
       "       calculated_host_listings_count  availability_365 week_price  \\\n",
       "207                                 3               323          -   \n",
       "421                                 1                 0          -   \n",
       "776                                 1                 0          -   \n",
       "854                                 1               188          -   \n",
       "1100                                2               144          -   \n",
       "...                               ...               ...        ...   \n",
       "46905                               7               253          -   \n",
       "47004                               3               345          -   \n",
       "47245                               1                38          -   \n",
       "47632                               1                18          -   \n",
       "48692                               1               133          -   \n",
       "\n",
       "       pets_allowed swimming_pool  \n",
       "207              no             0  \n",
       "421              no             0  \n",
       "776              no             0  \n",
       "854              no             1  \n",
       "1100            yes             -  \n",
       "...             ...           ...  \n",
       "46905  pets allowed             -  \n",
       "47004            no             0  \n",
       "47245  we love pets             0  \n",
       "47632            no             0  \n",
       "48692            no             0  \n",
       "\n",
       "[123 rows x 20 columns]"
      ]
     },
     "execution_count": 10,
     "metadata": {},
     "output_type": "execute_result"
    }
   ],
   "source": [
    "#df['price'] = pd.to_numeric(df['price'])\n",
    "# Si intentamos convertir directamente la columna, da error por tener valores '-'\n",
    "df[df['price'] < '0']"
   ]
  },
  {
   "cell_type": "markdown",
   "metadata": {},
   "source": [
    "Convertimos la columna `price` a numérica, con los valores extraños a NaN"
   ]
  },
  {
   "cell_type": "code",
   "execution_count": 11,
   "metadata": {},
   "outputs": [],
   "source": [
    "df['price'] = pd.to_numeric(df['price'], errors='coerce')"
   ]
  },
  {
   "cell_type": "markdown",
   "metadata": {},
   "source": [
    "Hacemos lo mismo con la columna `week_price`"
   ]
  },
  {
   "cell_type": "code",
   "execution_count": 12,
   "metadata": {},
   "outputs": [],
   "source": [
    "df['week_price'] = pd.to_numeric(df['week_price'], errors='coerce')"
   ]
  },
  {
   "cell_type": "markdown",
   "metadata": {},
   "source": [
    "Revisamos la columna `pets_allowed`"
   ]
  },
  {
   "cell_type": "code",
   "execution_count": 13,
   "metadata": {},
   "outputs": [
    {
     "data": {
      "text/plain": [
       "no              28579\n",
       "yes              8157\n",
       "pets allowed     4084\n",
       "never            4042\n",
       "we love pets     4033\n",
       "Name: pets_allowed, dtype: int64"
      ]
     },
     "execution_count": 13,
     "metadata": {},
     "output_type": "execute_result"
    }
   ],
   "source": [
    "df['pets_allowed'].value_counts()"
   ]
  },
  {
   "cell_type": "markdown",
   "metadata": {},
   "source": [
    "La columna, por su propio nombre, debería ser booleana, y por tanto solo contener valores 0 y 1, siendo también numérica y no object\n",
    "\n",
    "Convertimos los valores `yes`, `pets allowed` y `we love pets` a 1 y los valores `no` y `never` a 0"
   ]
  },
  {
   "cell_type": "code",
   "execution_count": 14,
   "metadata": {},
   "outputs": [],
   "source": [
    "pets = {'yes':1, \n",
    "        'pets allowed':1,\n",
    "        'we love pets':1,\n",
    "        'no':0,\n",
    "        'never':0}\n",
    "df.replace(pets, inplace=True)"
   ]
  },
  {
   "cell_type": "markdown",
   "metadata": {},
   "source": [
    "La columna `swimming_pool` tambien es de tipo object, cuando también podría contener solo valores 0 y 1"
   ]
  },
  {
   "cell_type": "code",
   "execution_count": 15,
   "metadata": {},
   "outputs": [
    {
     "data": {
      "text/plain": [
       "0    35960\n",
       "1     9696\n",
       "-     3239\n",
       "Name: swimming_pool, dtype: int64"
      ]
     },
     "execution_count": 15,
     "metadata": {},
     "output_type": "execute_result"
    }
   ],
   "source": [
    "df['swimming_pool'].value_counts()"
   ]
  },
  {
   "cell_type": "markdown",
   "metadata": {},
   "source": [
    "Reemplazamos los valores `-` por 0 y convertimos a numérica la columna `swimming_pool`"
   ]
  },
  {
   "cell_type": "code",
   "execution_count": 16,
   "metadata": {},
   "outputs": [],
   "source": [
    "df['swimming_pool'].replace('-', 0, inplace=True)\n",
    "df['swimming_pool'] = pd.to_numeric(df['swimming_pool'])"
   ]
  },
  {
   "cell_type": "markdown",
   "metadata": {},
   "source": [
    "`room_type` es otra columna a estudiar"
   ]
  },
  {
   "cell_type": "code",
   "execution_count": 17,
   "metadata": {},
   "outputs": [
    {
     "data": {
      "text/plain": [
       "Entire home/apt    25409\n",
       "Private room       22326\n",
       "Shared room         1160\n",
       "Name: room_type, dtype: int64"
      ]
     },
     "execution_count": 17,
     "metadata": {},
     "output_type": "execute_result"
    }
   ],
   "source": [
    "df['room_type'].value_counts()"
   ]
  },
  {
   "cell_type": "markdown",
   "metadata": {},
   "source": [
    "Esta columna puede ser convertida a valores numéricos, ya que solo tiene 3 posibles opciones.\n",
    "\n",
    "Convertiremos las columnas a valores 0, 1 y 2, teniendo en cuenta el número total de apariciones de menor a mayor."
   ]
  },
  {
   "cell_type": "code",
   "execution_count": 18,
   "metadata": {},
   "outputs": [],
   "source": [
    "tipo_habitacion = {'Shared room':0, \n",
    "                   'Private room':1, \n",
    "                   'Entire home/apt':2}\n",
    "df.replace(tipo_habitacion, inplace=True)"
   ]
  },
  {
   "cell_type": "markdown",
   "metadata": {},
   "source": [
    "Estudiemos `neighbourhood_group`"
   ]
  },
  {
   "cell_type": "code",
   "execution_count": 19,
   "metadata": {},
   "outputs": [
    {
     "data": {
      "text/plain": [
       "Manhattan        21661\n",
       "Brooklyn         20104\n",
       "Queens            5666\n",
       "Bronx             1091\n",
       "Staten Island      373\n",
       "Name: neighbourhood_group, dtype: int64"
      ]
     },
     "execution_count": 19,
     "metadata": {},
     "output_type": "execute_result"
    }
   ],
   "source": [
    "df['neighbourhood_group'].value_counts()"
   ]
  },
  {
   "cell_type": "markdown",
   "metadata": {},
   "source": [
    "Podemos cambiar los nombres de los distritos por números al igual que en la columna anterior de tipo de habitación."
   ]
  },
  {
   "cell_type": "code",
   "execution_count": 20,
   "metadata": {},
   "outputs": [],
   "source": [
    "tipo_habitacion = {'Staten Island':0, \n",
    "                   'Bronx':1, \n",
    "                   'Queens':2,\n",
    "                   'Brooklyn':3,\n",
    "                   'Manhattan':4}\n",
    "df.replace(tipo_habitacion, inplace=True)"
   ]
  },
  {
   "cell_type": "markdown",
   "metadata": {},
   "source": [
    "Veamos si alguna otra columna puede ser convertida a númerico"
   ]
  },
  {
   "cell_type": "code",
   "execution_count": 21,
   "metadata": {},
   "outputs": [
    {
     "data": {
      "text/plain": [
       "unnamed_0                           int64\n",
       "id                                  int64\n",
       "name                               object\n",
       "host_id                             int64\n",
       "host_name                          object\n",
       "neighbourhood_group                 int64\n",
       "neighbourhood                      object\n",
       "latitude                          float64\n",
       "longitude                         float64\n",
       "room_type                           int64\n",
       "price                             float64\n",
       "minimum_nights                      int64\n",
       "number_of_reviews                   int64\n",
       "last_review                        object\n",
       "reviews_per_month                 float64\n",
       "calculated_host_listings_count      int64\n",
       "availability_365                    int64\n",
       "week_price                        float64\n",
       "pets_allowed                        int64\n",
       "swimming_pool                       int64\n",
       "dtype: object"
      ]
     },
     "execution_count": 21,
     "metadata": {},
     "output_type": "execute_result"
    }
   ],
   "source": [
    "df.dtypes"
   ]
  },
  {
   "cell_type": "markdown",
   "metadata": {},
   "source": [
    "Las columnas que quedan, no tiene sentido que sean convertidas.<br>\n",
    "`name` es sustituible por la columna `id` <br>\n",
    "`host_name` es similar a la anterior pero con la columna `host_id`<br>\n",
    "`neighbourhood` tiene demasiados valores para ser convertida (221 posibles valores)<br>\n",
    "y `last_review` es una fecha."
   ]
  },
  {
   "cell_type": "markdown",
   "metadata": {},
   "source": [
    "### Datos ausentes\n",
    "\n",
    "Veamos que columnas tienen nulos y en que cantidad se encuentran"
   ]
  },
  {
   "cell_type": "code",
   "execution_count": 22,
   "metadata": {},
   "outputs": [
    {
     "data": {
      "text/plain": [
       "unnamed_0                             0\n",
       "id                                    0\n",
       "name                                 16\n",
       "host_id                               0\n",
       "host_name                            21\n",
       "neighbourhood_group                   0\n",
       "neighbourhood                         0\n",
       "latitude                              0\n",
       "longitude                             0\n",
       "room_type                             0\n",
       "price                               123\n",
       "minimum_nights                        0\n",
       "number_of_reviews                     0\n",
       "last_review                       10052\n",
       "reviews_per_month                 10052\n",
       "calculated_host_listings_count        0\n",
       "availability_365                      0\n",
       "week_price                          123\n",
       "pets_allowed                          0\n",
       "swimming_pool                         0\n",
       "dtype: int64"
      ]
     },
     "execution_count": 22,
     "metadata": {},
     "output_type": "execute_result"
    }
   ],
   "source": [
    "df.isna().sum()"
   ]
  },
  {
   "cell_type": "markdown",
   "metadata": {},
   "source": [
    "Las primeras columnas con nulos son `name` y `host_name`.\n",
    "\n",
    "Veamos los datos nulos de `name`"
   ]
  },
  {
   "cell_type": "code",
   "execution_count": 23,
   "metadata": {},
   "outputs": [
    {
     "data": {
      "text/html": [
       "<div>\n",
       "<style scoped>\n",
       "    .dataframe tbody tr th:only-of-type {\n",
       "        vertical-align: middle;\n",
       "    }\n",
       "\n",
       "    .dataframe tbody tr th {\n",
       "        vertical-align: top;\n",
       "    }\n",
       "\n",
       "    .dataframe thead th {\n",
       "        text-align: right;\n",
       "    }\n",
       "</style>\n",
       "<table border=\"1\" class=\"dataframe\">\n",
       "  <thead>\n",
       "    <tr style=\"text-align: right;\">\n",
       "      <th></th>\n",
       "      <th>unnamed_0</th>\n",
       "      <th>id</th>\n",
       "      <th>name</th>\n",
       "      <th>host_id</th>\n",
       "      <th>host_name</th>\n",
       "      <th>neighbourhood_group</th>\n",
       "      <th>neighbourhood</th>\n",
       "      <th>latitude</th>\n",
       "      <th>longitude</th>\n",
       "      <th>room_type</th>\n",
       "      <th>price</th>\n",
       "      <th>minimum_nights</th>\n",
       "      <th>number_of_reviews</th>\n",
       "      <th>last_review</th>\n",
       "      <th>reviews_per_month</th>\n",
       "      <th>calculated_host_listings_count</th>\n",
       "      <th>availability_365</th>\n",
       "      <th>week_price</th>\n",
       "      <th>pets_allowed</th>\n",
       "      <th>swimming_pool</th>\n",
       "    </tr>\n",
       "  </thead>\n",
       "  <tbody>\n",
       "    <tr>\n",
       "      <th>2854</th>\n",
       "      <td>2854</td>\n",
       "      <td>1615764</td>\n",
       "      <td>NaN</td>\n",
       "      <td>6676776</td>\n",
       "      <td>Peter</td>\n",
       "      <td>4</td>\n",
       "      <td>Battery Park City</td>\n",
       "      <td>40.71239</td>\n",
       "      <td>-74.01620</td>\n",
       "      <td>2</td>\n",
       "      <td>400.0</td>\n",
       "      <td>1000</td>\n",
       "      <td>0</td>\n",
       "      <td>NaN</td>\n",
       "      <td>NaN</td>\n",
       "      <td>1</td>\n",
       "      <td>362</td>\n",
       "      <td>2800.0</td>\n",
       "      <td>1</td>\n",
       "      <td>1</td>\n",
       "    </tr>\n",
       "    <tr>\n",
       "      <th>3703</th>\n",
       "      <td>3703</td>\n",
       "      <td>2232600</td>\n",
       "      <td>NaN</td>\n",
       "      <td>11395220</td>\n",
       "      <td>Anna</td>\n",
       "      <td>4</td>\n",
       "      <td>East Village</td>\n",
       "      <td>40.73215</td>\n",
       "      <td>-73.98821</td>\n",
       "      <td>2</td>\n",
       "      <td>200.0</td>\n",
       "      <td>1</td>\n",
       "      <td>28</td>\n",
       "      <td>2015-06-08</td>\n",
       "      <td>0.45</td>\n",
       "      <td>1</td>\n",
       "      <td>341</td>\n",
       "      <td>1400.0</td>\n",
       "      <td>0</td>\n",
       "      <td>0</td>\n",
       "    </tr>\n",
       "    <tr>\n",
       "      <th>5775</th>\n",
       "      <td>5775</td>\n",
       "      <td>4209595</td>\n",
       "      <td>NaN</td>\n",
       "      <td>20700823</td>\n",
       "      <td>Jesse</td>\n",
       "      <td>4</td>\n",
       "      <td>Greenwich Village</td>\n",
       "      <td>40.73473</td>\n",
       "      <td>-73.99244</td>\n",
       "      <td>2</td>\n",
       "      <td>225.0</td>\n",
       "      <td>1</td>\n",
       "      <td>1</td>\n",
       "      <td>2015-01-01</td>\n",
       "      <td>0.02</td>\n",
       "      <td>1</td>\n",
       "      <td>0</td>\n",
       "      <td>1575.0</td>\n",
       "      <td>0</td>\n",
       "      <td>0</td>\n",
       "    </tr>\n",
       "    <tr>\n",
       "      <th>5975</th>\n",
       "      <td>5975</td>\n",
       "      <td>4370230</td>\n",
       "      <td>NaN</td>\n",
       "      <td>22686810</td>\n",
       "      <td>Michaël</td>\n",
       "      <td>4</td>\n",
       "      <td>Nolita</td>\n",
       "      <td>40.72046</td>\n",
       "      <td>-73.99550</td>\n",
       "      <td>2</td>\n",
       "      <td>215.0</td>\n",
       "      <td>7</td>\n",
       "      <td>5</td>\n",
       "      <td>2016-01-02</td>\n",
       "      <td>0.09</td>\n",
       "      <td>1</td>\n",
       "      <td>0</td>\n",
       "      <td>1505.0</td>\n",
       "      <td>0</td>\n",
       "      <td>1</td>\n",
       "    </tr>\n",
       "    <tr>\n",
       "      <th>6269</th>\n",
       "      <td>6269</td>\n",
       "      <td>4581788</td>\n",
       "      <td>NaN</td>\n",
       "      <td>21600904</td>\n",
       "      <td>Lucie</td>\n",
       "      <td>3</td>\n",
       "      <td>Williamsburg</td>\n",
       "      <td>40.71370</td>\n",
       "      <td>-73.94378</td>\n",
       "      <td>1</td>\n",
       "      <td>150.0</td>\n",
       "      <td>1</td>\n",
       "      <td>0</td>\n",
       "      <td>NaN</td>\n",
       "      <td>NaN</td>\n",
       "      <td>1</td>\n",
       "      <td>0</td>\n",
       "      <td>1050.0</td>\n",
       "      <td>0</td>\n",
       "      <td>1</td>\n",
       "    </tr>\n",
       "  </tbody>\n",
       "</table>\n",
       "</div>"
      ],
      "text/plain": [
       "      unnamed_0       id name   host_id host_name  neighbourhood_group  \\\n",
       "2854       2854  1615764  NaN   6676776     Peter                    4   \n",
       "3703       3703  2232600  NaN  11395220      Anna                    4   \n",
       "5775       5775  4209595  NaN  20700823     Jesse                    4   \n",
       "5975       5975  4370230  NaN  22686810   Michaël                    4   \n",
       "6269       6269  4581788  NaN  21600904     Lucie                    3   \n",
       "\n",
       "          neighbourhood  latitude  longitude  room_type  price  \\\n",
       "2854  Battery Park City  40.71239  -74.01620          2  400.0   \n",
       "3703       East Village  40.73215  -73.98821          2  200.0   \n",
       "5775  Greenwich Village  40.73473  -73.99244          2  225.0   \n",
       "5975             Nolita  40.72046  -73.99550          2  215.0   \n",
       "6269       Williamsburg  40.71370  -73.94378          1  150.0   \n",
       "\n",
       "      minimum_nights  number_of_reviews last_review  reviews_per_month  \\\n",
       "2854            1000                  0         NaN                NaN   \n",
       "3703               1                 28  2015-06-08               0.45   \n",
       "5775               1                  1  2015-01-01               0.02   \n",
       "5975               7                  5  2016-01-02               0.09   \n",
       "6269               1                  0         NaN                NaN   \n",
       "\n",
       "      calculated_host_listings_count  availability_365  week_price  \\\n",
       "2854                               1               362      2800.0   \n",
       "3703                               1               341      1400.0   \n",
       "5775                               1                 0      1575.0   \n",
       "5975                               1                 0      1505.0   \n",
       "6269                               1                 0      1050.0   \n",
       "\n",
       "      pets_allowed  swimming_pool  \n",
       "2854             1              1  \n",
       "3703             0              0  \n",
       "5775             0              0  \n",
       "5975             0              1  \n",
       "6269             0              1  "
      ]
     },
     "execution_count": 23,
     "metadata": {},
     "output_type": "execute_result"
    }
   ],
   "source": [
    "df[ df['name'].isna() ].head()"
   ]
  },
  {
   "cell_type": "markdown",
   "metadata": {},
   "source": [
    "Puesto que es un campo descriptivo de la columna `id`, podemos usar el valor de `id` para rellenar el campo `name`"
   ]
  },
  {
   "cell_type": "code",
   "execution_count": 24,
   "metadata": {},
   "outputs": [
    {
     "data": {
      "text/plain": [
       "unnamed_0                                      2854\n",
       "id                                          1615764\n",
       "name                                        1615764\n",
       "host_id                                     6676776\n",
       "host_name                                     Peter\n",
       "neighbourhood_group                               4\n",
       "neighbourhood                     Battery Park City\n",
       "latitude                                   40.71239\n",
       "longitude                                  -74.0162\n",
       "room_type                                         2\n",
       "price                                         400.0\n",
       "minimum_nights                                 1000\n",
       "number_of_reviews                                 0\n",
       "last_review                                     NaN\n",
       "reviews_per_month                               NaN\n",
       "calculated_host_listings_count                    1\n",
       "availability_365                                362\n",
       "week_price                                   2800.0\n",
       "pets_allowed                                      1\n",
       "swimming_pool                                     1\n",
       "Name: 2854, dtype: object"
      ]
     },
     "execution_count": 24,
     "metadata": {},
     "output_type": "execute_result"
    }
   ],
   "source": [
    "df['name'].update( df[df['name'].isna()]['id'].astype(dtype='object') )\n",
    "df.iloc[2854]"
   ]
  },
  {
   "cell_type": "markdown",
   "metadata": {},
   "source": [
    "Procedemos igualmente para `host_name` con `host_id`"
   ]
  },
  {
   "cell_type": "code",
   "execution_count": 25,
   "metadata": {},
   "outputs": [
    {
     "data": {
      "text/html": [
       "<div>\n",
       "<style scoped>\n",
       "    .dataframe tbody tr th:only-of-type {\n",
       "        vertical-align: middle;\n",
       "    }\n",
       "\n",
       "    .dataframe tbody tr th {\n",
       "        vertical-align: top;\n",
       "    }\n",
       "\n",
       "    .dataframe thead th {\n",
       "        text-align: right;\n",
       "    }\n",
       "</style>\n",
       "<table border=\"1\" class=\"dataframe\">\n",
       "  <thead>\n",
       "    <tr style=\"text-align: right;\">\n",
       "      <th></th>\n",
       "      <th>unnamed_0</th>\n",
       "      <th>id</th>\n",
       "      <th>name</th>\n",
       "      <th>host_id</th>\n",
       "      <th>host_name</th>\n",
       "      <th>neighbourhood_group</th>\n",
       "      <th>neighbourhood</th>\n",
       "      <th>latitude</th>\n",
       "      <th>longitude</th>\n",
       "      <th>room_type</th>\n",
       "      <th>price</th>\n",
       "      <th>minimum_nights</th>\n",
       "      <th>number_of_reviews</th>\n",
       "      <th>last_review</th>\n",
       "      <th>reviews_per_month</th>\n",
       "      <th>calculated_host_listings_count</th>\n",
       "      <th>availability_365</th>\n",
       "      <th>week_price</th>\n",
       "      <th>pets_allowed</th>\n",
       "      <th>swimming_pool</th>\n",
       "    </tr>\n",
       "  </thead>\n",
       "  <tbody>\n",
       "    <tr>\n",
       "      <th>360</th>\n",
       "      <td>360</td>\n",
       "      <td>100184</td>\n",
       "      <td>Bienvenue</td>\n",
       "      <td>526653</td>\n",
       "      <td>NaN</td>\n",
       "      <td>2</td>\n",
       "      <td>Queens Village</td>\n",
       "      <td>40.72413</td>\n",
       "      <td>-73.76133</td>\n",
       "      <td>1</td>\n",
       "      <td>50.0</td>\n",
       "      <td>1</td>\n",
       "      <td>43</td>\n",
       "      <td>2019-07-08</td>\n",
       "      <td>0.45</td>\n",
       "      <td>1</td>\n",
       "      <td>88</td>\n",
       "      <td>350.0</td>\n",
       "      <td>1</td>\n",
       "      <td>0</td>\n",
       "    </tr>\n",
       "    <tr>\n",
       "      <th>2700</th>\n",
       "      <td>2700</td>\n",
       "      <td>1449546</td>\n",
       "      <td>Cozy Studio in Flatbush</td>\n",
       "      <td>7779204</td>\n",
       "      <td>NaN</td>\n",
       "      <td>3</td>\n",
       "      <td>Flatbush</td>\n",
       "      <td>40.64965</td>\n",
       "      <td>-73.96154</td>\n",
       "      <td>2</td>\n",
       "      <td>100.0</td>\n",
       "      <td>30</td>\n",
       "      <td>49</td>\n",
       "      <td>2017-01-02</td>\n",
       "      <td>0.69</td>\n",
       "      <td>1</td>\n",
       "      <td>342</td>\n",
       "      <td>700.0</td>\n",
       "      <td>1</td>\n",
       "      <td>0</td>\n",
       "    </tr>\n",
       "    <tr>\n",
       "      <th>5745</th>\n",
       "      <td>5745</td>\n",
       "      <td>4183989</td>\n",
       "      <td>SPRING in the City!! Zen-Style Tranquil Bedroom</td>\n",
       "      <td>919218</td>\n",
       "      <td>NaN</td>\n",
       "      <td>4</td>\n",
       "      <td>Harlem</td>\n",
       "      <td>40.80606</td>\n",
       "      <td>-73.95061</td>\n",
       "      <td>1</td>\n",
       "      <td>86.0</td>\n",
       "      <td>3</td>\n",
       "      <td>34</td>\n",
       "      <td>2019-05-23</td>\n",
       "      <td>1.00</td>\n",
       "      <td>1</td>\n",
       "      <td>359</td>\n",
       "      <td>602.0</td>\n",
       "      <td>1</td>\n",
       "      <td>0</td>\n",
       "    </tr>\n",
       "    <tr>\n",
       "      <th>6075</th>\n",
       "      <td>6075</td>\n",
       "      <td>4446862</td>\n",
       "      <td>Charming Room in Prospect Heights!</td>\n",
       "      <td>23077718</td>\n",
       "      <td>NaN</td>\n",
       "      <td>3</td>\n",
       "      <td>Crown Heights</td>\n",
       "      <td>40.67512</td>\n",
       "      <td>-73.96146</td>\n",
       "      <td>1</td>\n",
       "      <td>50.0</td>\n",
       "      <td>1</td>\n",
       "      <td>0</td>\n",
       "      <td>NaN</td>\n",
       "      <td>NaN</td>\n",
       "      <td>1</td>\n",
       "      <td>0</td>\n",
       "      <td>350.0</td>\n",
       "      <td>0</td>\n",
       "      <td>0</td>\n",
       "    </tr>\n",
       "    <tr>\n",
       "      <th>6582</th>\n",
       "      <td>6582</td>\n",
       "      <td>4763327</td>\n",
       "      <td>Luxurious, best location, spa inc'l</td>\n",
       "      <td>24576978</td>\n",
       "      <td>NaN</td>\n",
       "      <td>3</td>\n",
       "      <td>Greenpoint</td>\n",
       "      <td>40.72035</td>\n",
       "      <td>-73.95355</td>\n",
       "      <td>2</td>\n",
       "      <td>195.0</td>\n",
       "      <td>1</td>\n",
       "      <td>1</td>\n",
       "      <td>2015-10-20</td>\n",
       "      <td>0.02</td>\n",
       "      <td>1</td>\n",
       "      <td>0</td>\n",
       "      <td>1365.0</td>\n",
       "      <td>0</td>\n",
       "      <td>0</td>\n",
       "    </tr>\n",
       "  </tbody>\n",
       "</table>\n",
       "</div>"
      ],
      "text/plain": [
       "      unnamed_0       id                                             name  \\\n",
       "360         360   100184                                        Bienvenue   \n",
       "2700       2700  1449546                          Cozy Studio in Flatbush   \n",
       "5745       5745  4183989  SPRING in the City!! Zen-Style Tranquil Bedroom   \n",
       "6075       6075  4446862               Charming Room in Prospect Heights!   \n",
       "6582       6582  4763327              Luxurious, best location, spa inc'l   \n",
       "\n",
       "       host_id host_name  neighbourhood_group   neighbourhood  latitude  \\\n",
       "360     526653       NaN                    2  Queens Village  40.72413   \n",
       "2700   7779204       NaN                    3        Flatbush  40.64965   \n",
       "5745    919218       NaN                    4          Harlem  40.80606   \n",
       "6075  23077718       NaN                    3   Crown Heights  40.67512   \n",
       "6582  24576978       NaN                    3      Greenpoint  40.72035   \n",
       "\n",
       "      longitude  room_type  price  minimum_nights  number_of_reviews  \\\n",
       "360   -73.76133          1   50.0               1                 43   \n",
       "2700  -73.96154          2  100.0              30                 49   \n",
       "5745  -73.95061          1   86.0               3                 34   \n",
       "6075  -73.96146          1   50.0               1                  0   \n",
       "6582  -73.95355          2  195.0               1                  1   \n",
       "\n",
       "     last_review  reviews_per_month  calculated_host_listings_count  \\\n",
       "360   2019-07-08               0.45                               1   \n",
       "2700  2017-01-02               0.69                               1   \n",
       "5745  2019-05-23               1.00                               1   \n",
       "6075         NaN                NaN                               1   \n",
       "6582  2015-10-20               0.02                               1   \n",
       "\n",
       "      availability_365  week_price  pets_allowed  swimming_pool  \n",
       "360                 88       350.0             1              0  \n",
       "2700               342       700.0             1              0  \n",
       "5745               359       602.0             1              0  \n",
       "6075                 0       350.0             0              0  \n",
       "6582                 0      1365.0             0              0  "
      ]
     },
     "execution_count": 25,
     "metadata": {},
     "output_type": "execute_result"
    }
   ],
   "source": [
    "df[ df['host_name'].isna() ].head()"
   ]
  },
  {
   "cell_type": "code",
   "execution_count": 26,
   "metadata": {},
   "outputs": [
    {
     "data": {
      "text/plain": [
       "unnamed_0                                    360\n",
       "id                                        100184\n",
       "name                                   Bienvenue\n",
       "host_id                                   526653\n",
       "host_name                                 526653\n",
       "neighbourhood_group                            2\n",
       "neighbourhood                     Queens Village\n",
       "latitude                                40.72413\n",
       "longitude                              -73.76133\n",
       "room_type                                      1\n",
       "price                                       50.0\n",
       "minimum_nights                                 1\n",
       "number_of_reviews                             43\n",
       "last_review                           2019-07-08\n",
       "reviews_per_month                           0.45\n",
       "calculated_host_listings_count                 1\n",
       "availability_365                              88\n",
       "week_price                                 350.0\n",
       "pets_allowed                                   1\n",
       "swimming_pool                                  0\n",
       "Name: 360, dtype: object"
      ]
     },
     "execution_count": 26,
     "metadata": {},
     "output_type": "execute_result"
    }
   ],
   "source": [
    "df['host_name'].update( df[df['host_name'].isna()]['host_id'].astype(dtype='object') )\n",
    "df.iloc[360]"
   ]
  },
  {
   "cell_type": "markdown",
   "metadata": {},
   "source": [
    "Veamos ahora `last_review` y `reviews_per_month`.<br>\n",
    "Al ser más del 20% del dataset, estudiaremos que hacer con ellos, ya que la opción fácil sería borrarlos, pero podría afectar al uso posterior del dataset.<br>\n",
    "Primero veamos si coinciden las columnas nulas."
   ]
  },
  {
   "cell_type": "code",
   "execution_count": 27,
   "metadata": {},
   "outputs": [
    {
     "data": {
      "text/plain": [
       "Series([], dtype: int64)"
      ]
     },
     "execution_count": 27,
     "metadata": {},
     "output_type": "execute_result"
    }
   ],
   "source": [
    "filtro_review_nulo = df['last_review'].isna()\n",
    "df[filtro_review_nulo][['last_review','reviews_per_month']].value_counts()"
   ]
  },
  {
   "cell_type": "markdown",
   "metadata": {},
   "source": [
    "Los nulos de ambas columnas se producen en los mismos registros.<br>\n",
    "\n",
    "Si un registro no tiene *review* evidentemente no puede realizarse una media por meses en `reviews_per_month`. Esto puede suplirse poniendo esos valores nulos a Cero.<br>\n",
    "Comprobamos que el valor de la columna `number_of_reviews` es cero para `reviews_per_month` nulos."
   ]
  },
  {
   "cell_type": "code",
   "execution_count": 28,
   "metadata": {},
   "outputs": [
    {
     "data": {
      "text/html": [
       "<div>\n",
       "<style scoped>\n",
       "    .dataframe tbody tr th:only-of-type {\n",
       "        vertical-align: middle;\n",
       "    }\n",
       "\n",
       "    .dataframe tbody tr th {\n",
       "        vertical-align: top;\n",
       "    }\n",
       "\n",
       "    .dataframe thead th {\n",
       "        text-align: right;\n",
       "    }\n",
       "</style>\n",
       "<table border=\"1\" class=\"dataframe\">\n",
       "  <thead>\n",
       "    <tr style=\"text-align: right;\">\n",
       "      <th></th>\n",
       "      <th>number_of_reviews</th>\n",
       "      <th>reviews_per_month</th>\n",
       "    </tr>\n",
       "  </thead>\n",
       "  <tbody>\n",
       "    <tr>\n",
       "      <th>2</th>\n",
       "      <td>0</td>\n",
       "      <td>NaN</td>\n",
       "    </tr>\n",
       "    <tr>\n",
       "      <th>19</th>\n",
       "      <td>0</td>\n",
       "      <td>NaN</td>\n",
       "    </tr>\n",
       "    <tr>\n",
       "      <th>26</th>\n",
       "      <td>0</td>\n",
       "      <td>NaN</td>\n",
       "    </tr>\n",
       "    <tr>\n",
       "      <th>36</th>\n",
       "      <td>0</td>\n",
       "      <td>NaN</td>\n",
       "    </tr>\n",
       "    <tr>\n",
       "      <th>38</th>\n",
       "      <td>0</td>\n",
       "      <td>NaN</td>\n",
       "    </tr>\n",
       "    <tr>\n",
       "      <th>...</th>\n",
       "      <td>...</td>\n",
       "      <td>...</td>\n",
       "    </tr>\n",
       "    <tr>\n",
       "      <th>48890</th>\n",
       "      <td>0</td>\n",
       "      <td>NaN</td>\n",
       "    </tr>\n",
       "    <tr>\n",
       "      <th>48891</th>\n",
       "      <td>0</td>\n",
       "      <td>NaN</td>\n",
       "    </tr>\n",
       "    <tr>\n",
       "      <th>48892</th>\n",
       "      <td>0</td>\n",
       "      <td>NaN</td>\n",
       "    </tr>\n",
       "    <tr>\n",
       "      <th>48893</th>\n",
       "      <td>0</td>\n",
       "      <td>NaN</td>\n",
       "    </tr>\n",
       "    <tr>\n",
       "      <th>48894</th>\n",
       "      <td>0</td>\n",
       "      <td>NaN</td>\n",
       "    </tr>\n",
       "  </tbody>\n",
       "</table>\n",
       "<p>10052 rows × 2 columns</p>\n",
       "</div>"
      ],
      "text/plain": [
       "       number_of_reviews  reviews_per_month\n",
       "2                      0                NaN\n",
       "19                     0                NaN\n",
       "26                     0                NaN\n",
       "36                     0                NaN\n",
       "38                     0                NaN\n",
       "...                  ...                ...\n",
       "48890                  0                NaN\n",
       "48891                  0                NaN\n",
       "48892                  0                NaN\n",
       "48893                  0                NaN\n",
       "48894                  0                NaN\n",
       "\n",
       "[10052 rows x 2 columns]"
      ]
     },
     "execution_count": 28,
     "metadata": {},
     "output_type": "execute_result"
    }
   ],
   "source": [
    "df[ df['number_of_reviews'] == 0 ][['number_of_reviews','reviews_per_month']]"
   ]
  },
  {
   "cell_type": "markdown",
   "metadata": {},
   "source": [
    "Tenemos un total de 10.052 filas que coinciden con el número de nulos.<br>\n",
    "Podemos poner la columna `reviews_per_month` con valores cero, para que concuerden las columnas."
   ]
  },
  {
   "cell_type": "code",
   "execution_count": 29,
   "metadata": {},
   "outputs": [],
   "source": [
    "df['reviews_per_month'].fillna(0,inplace=True)"
   ]
  },
  {
   "cell_type": "markdown",
   "metadata": {},
   "source": [
    "Sigamos con `last_review`<br>\n",
    "Esta columna es la última fecha en la que se hizo una reseña, si está vacía es que nunca ha tenido reseña por lo que puede ser borrado.<br>\n",
    "Eliminemos las filas vacías."
   ]
  },
  {
   "cell_type": "code",
   "execution_count": 30,
   "metadata": {},
   "outputs": [],
   "source": [
    "df['last_review'].dropna(inplace=True)"
   ]
  },
  {
   "cell_type": "markdown",
   "metadata": {},
   "source": [
    "Una vez sin nulos, convertimos el campo a tipo Fecha."
   ]
  },
  {
   "cell_type": "code",
   "execution_count": 31,
   "metadata": {},
   "outputs": [],
   "source": [
    "df['last_review'] = pd.to_datetime(df['last_review'])"
   ]
  },
  {
   "cell_type": "markdown",
   "metadata": {},
   "source": [
    "Pasamos a las columnas `price` y `week_price`.<br>\n",
    "Estas tienen 123 nulos.\n",
    "\n",
    "Veamos si coinciden los valores nulos de ambas columnas."
   ]
  },
  {
   "cell_type": "code",
   "execution_count": 32,
   "metadata": {},
   "outputs": [
    {
     "data": {
      "text/html": [
       "<div>\n",
       "<style scoped>\n",
       "    .dataframe tbody tr th:only-of-type {\n",
       "        vertical-align: middle;\n",
       "    }\n",
       "\n",
       "    .dataframe tbody tr th {\n",
       "        vertical-align: top;\n",
       "    }\n",
       "\n",
       "    .dataframe thead th {\n",
       "        text-align: right;\n",
       "    }\n",
       "</style>\n",
       "<table border=\"1\" class=\"dataframe\">\n",
       "  <thead>\n",
       "    <tr style=\"text-align: right;\">\n",
       "      <th></th>\n",
       "      <th>price</th>\n",
       "      <th>week_price</th>\n",
       "    </tr>\n",
       "  </thead>\n",
       "  <tbody>\n",
       "    <tr>\n",
       "      <th>207</th>\n",
       "      <td>NaN</td>\n",
       "      <td>NaN</td>\n",
       "    </tr>\n",
       "    <tr>\n",
       "      <th>421</th>\n",
       "      <td>NaN</td>\n",
       "      <td>NaN</td>\n",
       "    </tr>\n",
       "    <tr>\n",
       "      <th>776</th>\n",
       "      <td>NaN</td>\n",
       "      <td>NaN</td>\n",
       "    </tr>\n",
       "    <tr>\n",
       "      <th>854</th>\n",
       "      <td>NaN</td>\n",
       "      <td>NaN</td>\n",
       "    </tr>\n",
       "    <tr>\n",
       "      <th>1100</th>\n",
       "      <td>NaN</td>\n",
       "      <td>NaN</td>\n",
       "    </tr>\n",
       "    <tr>\n",
       "      <th>...</th>\n",
       "      <td>...</td>\n",
       "      <td>...</td>\n",
       "    </tr>\n",
       "    <tr>\n",
       "      <th>46905</th>\n",
       "      <td>NaN</td>\n",
       "      <td>NaN</td>\n",
       "    </tr>\n",
       "    <tr>\n",
       "      <th>47004</th>\n",
       "      <td>NaN</td>\n",
       "      <td>NaN</td>\n",
       "    </tr>\n",
       "    <tr>\n",
       "      <th>47245</th>\n",
       "      <td>NaN</td>\n",
       "      <td>NaN</td>\n",
       "    </tr>\n",
       "    <tr>\n",
       "      <th>47632</th>\n",
       "      <td>NaN</td>\n",
       "      <td>NaN</td>\n",
       "    </tr>\n",
       "    <tr>\n",
       "      <th>48692</th>\n",
       "      <td>NaN</td>\n",
       "      <td>NaN</td>\n",
       "    </tr>\n",
       "  </tbody>\n",
       "</table>\n",
       "<p>123 rows × 2 columns</p>\n",
       "</div>"
      ],
      "text/plain": [
       "       price  week_price\n",
       "207      NaN         NaN\n",
       "421      NaN         NaN\n",
       "776      NaN         NaN\n",
       "854      NaN         NaN\n",
       "1100     NaN         NaN\n",
       "...      ...         ...\n",
       "46905    NaN         NaN\n",
       "47004    NaN         NaN\n",
       "47245    NaN         NaN\n",
       "47632    NaN         NaN\n",
       "48692    NaN         NaN\n",
       "\n",
       "[123 rows x 2 columns]"
      ]
     },
     "execution_count": 32,
     "metadata": {},
     "output_type": "execute_result"
    }
   ],
   "source": [
    "df[df['price'].isna()][['price','week_price']]"
   ]
  },
  {
   "cell_type": "markdown",
   "metadata": {},
   "source": [
    "Comprobemos con la función `value_counts`"
   ]
  },
  {
   "cell_type": "code",
   "execution_count": 33,
   "metadata": {},
   "outputs": [
    {
     "data": {
      "text/plain": [
       "Series([], dtype: int64)"
      ]
     },
     "execution_count": 33,
     "metadata": {},
     "output_type": "execute_result"
    }
   ],
   "source": [
    "df[df['price'].isna()][['price','week_price']].value_counts()"
   ]
  },
  {
   "cell_type": "markdown",
   "metadata": {},
   "source": [
    "Al devolver una Serie vacía, nos indica que tanto los valores nulos de `price` y `week_price` pertenecen a los mismos registros.\n",
    "\n",
    "Vamos a borrar los registros, ya que al ser pocos respecto al total, su influencia en el dataset no será grande."
   ]
  },
  {
   "cell_type": "code",
   "execution_count": 34,
   "metadata": {},
   "outputs": [],
   "source": [
    "df.dropna(inplace=True)"
   ]
  },
  {
   "cell_type": "markdown",
   "metadata": {},
   "source": [
    "Comprobamos que las 48895 filas iniciales se han reducido."
   ]
  },
  {
   "cell_type": "code",
   "execution_count": 35,
   "metadata": {},
   "outputs": [
    {
     "data": {
      "text/plain": [
       "(38740, 20)"
      ]
     },
     "execution_count": 35,
     "metadata": {},
     "output_type": "execute_result"
    }
   ],
   "source": [
    "df.shape"
   ]
  },
  {
   "cell_type": "markdown",
   "metadata": {},
   "source": [
    "Hasta aquí, hemos revisado los datos de forma genérica, sin tener en cuenta si tendrían o no relevancia posterior.<br>\n",
    "¿Podemos eliminar columnas de nuestro dataset?\n",
    "Seguramente si, veamos cuales.\n",
    "\n",
    "En primer lugar, veamos que columnas quedan que no son numéricas."
   ]
  },
  {
   "cell_type": "code",
   "execution_count": 36,
   "metadata": {},
   "outputs": [
    {
     "data": {
      "text/plain": [
       "['name', 'host_name', 'neighbourhood', 'last_review']"
      ]
     },
     "execution_count": 36,
     "metadata": {},
     "output_type": "execute_result"
    }
   ],
   "source": [
    "col_no_num = [col for col in df.columns if str(df[col].dtype) in ('object','datetime64[ns]') ]\n",
    "col_no_num"
   ]
  },
  {
   "cell_type": "markdown",
   "metadata": {},
   "source": [
    "Las 3 primeras columnas puede ser borradas, ya que tienen valores demasiado atomizados o únicos. "
   ]
  },
  {
   "cell_type": "code",
   "execution_count": 37,
   "metadata": {},
   "outputs": [],
   "source": [
    "col_object = [col for col in df.columns if df[col].dtype == 'object']\n",
    "df.drop(col_object, axis=1, inplace=True)"
   ]
  },
  {
   "cell_type": "markdown",
   "metadata": {},
   "source": [
    "Por esta misma razón, aunque sean númericas, las columnas `id` y `host_id` también son borradas."
   ]
  },
  {
   "cell_type": "code",
   "execution_count": 38,
   "metadata": {},
   "outputs": [],
   "source": [
    "df.drop(['id', 'host_id'], axis=1, inplace=True)"
   ]
  },
  {
   "cell_type": "markdown",
   "metadata": {},
   "source": [
    "Para la columna fecha, `last_review`, podemos pasarla a númerica tomando solo el año de la review."
   ]
  },
  {
   "cell_type": "code",
   "execution_count": 39,
   "metadata": {},
   "outputs": [],
   "source": [
    "df['last_review'] = df['last_review'].dt.year.astype('Int64')"
   ]
  },
  {
   "cell_type": "markdown",
   "metadata": {},
   "source": [
    "Para terminar este punto, podemos también eliminar la columna `unnamed_0`, ya que contiene la misma información que el índice del dataset."
   ]
  },
  {
   "cell_type": "code",
   "execution_count": 40,
   "metadata": {},
   "outputs": [],
   "source": [
    "df.drop(['unnamed_0'], axis=1, inplace=True)"
   ]
  },
  {
   "cell_type": "markdown",
   "metadata": {},
   "source": [
    "Verificamos que todas las columnas son numéricas."
   ]
  },
  {
   "cell_type": "code",
   "execution_count": 41,
   "metadata": {},
   "outputs": [
    {
     "name": "stdout",
     "output_type": "stream",
     "text": [
      "<class 'pandas.core.frame.DataFrame'>\n",
      "Int64Index: 38740 entries, 0 to 48852\n",
      "Data columns (total 14 columns):\n",
      " #   Column                          Non-Null Count  Dtype  \n",
      "---  ------                          --------------  -----  \n",
      " 0   neighbourhood_group             38740 non-null  int64  \n",
      " 1   latitude                        38740 non-null  float64\n",
      " 2   longitude                       38740 non-null  float64\n",
      " 3   room_type                       38740 non-null  int64  \n",
      " 4   price                           38740 non-null  float64\n",
      " 5   minimum_nights                  38740 non-null  int64  \n",
      " 6   number_of_reviews               38740 non-null  int64  \n",
      " 7   last_review                     38740 non-null  Int64  \n",
      " 8   reviews_per_month               38740 non-null  float64\n",
      " 9   calculated_host_listings_count  38740 non-null  int64  \n",
      " 10  availability_365                38740 non-null  int64  \n",
      " 11  week_price                      38740 non-null  float64\n",
      " 12  pets_allowed                    38740 non-null  int64  \n",
      " 13  swimming_pool                   38740 non-null  int64  \n",
      "dtypes: Int64(1), float64(5), int64(8)\n",
      "memory usage: 4.5 MB\n"
     ]
    }
   ],
   "source": [
    "df.info()"
   ]
  },
  {
   "cell_type": "markdown",
   "metadata": {},
   "source": [
    "### Datos atípicos\n",
    "\n",
    "Veamos si tenemos filas duplicadas"
   ]
  },
  {
   "cell_type": "code",
   "execution_count": 42,
   "metadata": {},
   "outputs": [
    {
     "data": {
      "text/plain": [
       "False"
      ]
     },
     "execution_count": 42,
     "metadata": {},
     "output_type": "execute_result"
    }
   ],
   "source": [
    "df.duplicated().any()"
   ]
  },
  {
   "cell_type": "markdown",
   "metadata": {},
   "source": [
    "No tenemos duplicados.\n",
    "\n",
    "Comprobemos los outliers."
   ]
  },
  {
   "cell_type": "code",
   "execution_count": 43,
   "metadata": {},
   "outputs": [
    {
     "data": {
      "image/png": "[encoded data removed]",
      "text/plain": [
       "<Figure size 1440x1440 with 14 Axes>"
      ]
     },
     "metadata": {
      "needs_background": "light"
     },
     "output_type": "display_data"
    }
   ],
   "source": [
    "columnas = df.select_dtypes(exclude=['object','datetime64']).columns\n",
    "num_col = len(columnas)\n",
    "\n",
    "from math import ceil\n",
    "numero_columnas_plot = 4\n",
    "numero_filas_plot = ceil(num_col/numero_columnas_plot)\n",
    "\n",
    "fig = plt.figure(figsize=(20, 5*numero_filas_plot))\n",
    "\n",
    "for col,i in zip(columnas,range(num_col)):\n",
    "    ax = fig.add_subplot(numero_filas_plot, numero_columnas_plot, i+1)\n",
    "    bx = plt.boxplot(df[col])\n",
    "    try:\n",
    "        titulo = col+' min:'+str(bx['caps'][0].get_ydata()[0])+' max:'+str(bx['caps'][1].get_ydata()[0])\n",
    "    except:\n",
    "        titulo = col\n",
    "    plt.title(titulo)\n",
    "plt.show()"
   ]
  },
  {
   "cell_type": "markdown",
   "metadata": {},
   "source": [
    "Tras ver los datos de forma gráfica, determinamos que las columnas relativas a los distritos y la ubicación del alojamiento (`neighbourhood_group`, `latitude`, `longitude`) son valores cercanos a la media, por lo que podrán normalizarse.<br>\n",
    "La columna `swimming_pool` tampoco será tratada por ser un booleano, que da un punto de información extra.\n",
    "Las columnas relativas al precio (`price`, `week_price`) y las reviews (`number_of_reviews`, `last_review`, `reviews_per_month`) serán estudiadas de forma individualizada, al igual que la columna de las veces que ha sido listado el alojamiento (`calculated_host_listings_count`).<br>\n",
    "\n",
    "Ahora nos centraremos en la columna `minimum_nights` ya que además de outliers, tiene valores sin sentido en el contexto de alojamientos, puesto que aparecen valores negativos, cuando el valor lógico para el mínimo tendría que ser `1`.\n",
    " "
   ]
  },
  {
   "cell_type": "code",
   "execution_count": 44,
   "metadata": {},
   "outputs": [
    {
     "data": {
      "text/plain": [
       "-1    2\n",
       "-4    1\n",
       "-5    1\n",
       "-2    1\n",
       "Name: minimum_nights, dtype: int64"
      ]
     },
     "execution_count": 44,
     "metadata": {},
     "output_type": "execute_result"
    }
   ],
   "source": [
    "menores_a_uno = df['minimum_nights'] < 1\n",
    "df['minimum_nights'][menores_a_uno].value_counts()"
   ]
  },
  {
   "cell_type": "markdown",
   "metadata": {},
   "source": [
    "Los tomamos como valores erróneos y procedemos a borrarlos."
   ]
  },
  {
   "cell_type": "code",
   "execution_count": 45,
   "metadata": {},
   "outputs": [],
   "source": [
    "df.drop(df['minimum_nights'][menores_a_uno].index, axis=0, inplace=True)"
   ]
  },
  {
   "cell_type": "markdown",
   "metadata": {},
   "source": [
    "Del mismo modo que la columna anterior, la columna `availability_365` no tiene sentido que tenga disponible el alojamiento en el año anterior más de 365 días.<br>\n",
    "Procedemos a borrarlos."
   ]
  },
  {
   "cell_type": "code",
   "execution_count": 46,
   "metadata": {},
   "outputs": [
    {
     "name": "stdout",
     "output_type": "stream",
     "text": [
      "Filas a borrar: 15\n"
     ]
    }
   ],
   "source": [
    "filtro_365 = df['availability_365'] > 365\n",
    "print('Filas a borrar:', df['availability_365'][filtro_365].count())\n",
    "df.drop(df['availability_365'][filtro_365].index, axis=0, inplace=True)"
   ]
  },
  {
   "cell_type": "markdown",
   "metadata": {},
   "source": [
    "Siguiendo con outliers mínimos, continuamos con `last_review` que tiene valores inferiores a 2017 como outliers.<br>\n",
    "Vamos a borrarlos, ya que las reseñas antiguas nos indican que el dato puede estar desactualizado u obsoleto."
   ]
  },
  {
   "cell_type": "code",
   "execution_count": 47,
   "metadata": {},
   "outputs": [],
   "source": [
    "df.drop(df[df['last_review'] < 2017].index, axis=0, inplace=True)"
   ]
  },
  {
   "cell_type": "markdown",
   "metadata": {},
   "source": [
    "Tras los borrados, veamos como se encuentran las columnas que estamos estudiando."
   ]
  },
  {
   "cell_type": "code",
   "execution_count": 48,
   "metadata": {},
   "outputs": [
    {
     "data": {
      "image/png": "[encoded data removed]",
      "text/plain": [
       "<Figure size 1440x720 with 7 Axes>"
      ]
     },
     "metadata": {
      "needs_background": "light"
     },
     "output_type": "display_data"
    }
   ],
   "source": [
    "col_estudio = ['minimum_nights', 'number_of_reviews', 'last_review',\n",
    "       'reviews_per_month', 'calculated_host_listings_count', 'price', 'week_price']\n",
    "num_col = len(col_estudio)\n",
    "\n",
    "from math import ceil\n",
    "numero_columnas_plot = 4\n",
    "numero_filas_plot = ceil(num_col/numero_columnas_plot)\n",
    "\n",
    "fig = plt.figure(figsize=(20, 5*numero_filas_plot))\n",
    "\n",
    "for col,i in zip(col_estudio,range(num_col)):\n",
    "    ax = fig.add_subplot(numero_filas_plot, numero_columnas_plot, i+1)\n",
    "    bx = plt.boxplot(df[col])\n",
    "    try:\n",
    "        titulo = col+' min:'+str(bx['caps'][0].get_ydata()[0])+' max:'+str(bx['caps'][1].get_ydata()[0])\n",
    "    except:\n",
    "        titulo = col\n",
    "    plt.title(titulo)\n",
    "plt.show()"
   ]
  },
  {
   "cell_type": "markdown",
   "metadata": {},
   "source": [
    "Tras visualizar las gráficas, optamos por realizar una normalización de recorte, pero solo a valores muy extremos, y así después aplicar una normalización z-score."
   ]
  },
  {
   "cell_type": "markdown",
   "metadata": {},
   "source": [
    "Para la columna `minimum_nights` eliminamos los valores superiores a 30, ya que a partir de este valor se puede considerar que es un alojamiento de larga duración, cuando la aplicación está desarrollada para un uso más temporal."
   ]
  },
  {
   "cell_type": "code",
   "execution_count": 49,
   "metadata": {},
   "outputs": [
    {
     "name": "stdout",
     "output_type": "stream",
     "text": [
      "Filas a borrar: 362\n"
     ]
    }
   ],
   "source": [
    "filtro_noches = df['minimum_nights'] > 30\n",
    "print('Filas a borrar:', df['minimum_nights'][filtro_noches].count())\n",
    "df.drop(df['minimum_nights'][filtro_noches].index, axis=0, inplace=True)"
   ]
  },
  {
   "cell_type": "markdown",
   "metadata": {},
   "source": [
    "Para la columna `number_of_reviews` eliminamos los valores superiores a 250."
   ]
  },
  {
   "cell_type": "code",
   "execution_count": 50,
   "metadata": {},
   "outputs": [
    {
     "name": "stdout",
     "output_type": "stream",
     "text": [
      "Filas a borrar: 261\n"
     ]
    }
   ],
   "source": [
    "filtro_review = df['number_of_reviews'] > 250\n",
    "print('Filas a borrar:', df['number_of_reviews'][filtro_review].count())\n",
    "df.drop(df['number_of_reviews'][filtro_review].index, axis=0, inplace=True)"
   ]
  },
  {
   "cell_type": "markdown",
   "metadata": {},
   "source": [
    "Para la columna `calculated_host_listings_count` eliminamos los valores superiores a 60, ya lo habitual es que se vean de 1 a 3 veces."
   ]
  },
  {
   "cell_type": "code",
   "execution_count": 51,
   "metadata": {},
   "outputs": [
    {
     "name": "stdout",
     "output_type": "stream",
     "text": [
      "Filas a borrar: 583\n"
     ]
    }
   ],
   "source": [
    "filtro_lista = df['calculated_host_listings_count'] > 60\n",
    "print('Filas a borrar:', df['calculated_host_listings_count'][filtro_lista].count())\n",
    "df.drop(df['calculated_host_listings_count'][filtro_lista].index, axis=0, inplace=True)"
   ]
  },
  {
   "cell_type": "markdown",
   "metadata": {},
   "source": [
    "Para la columna `price` eliminamos los valores superiores a 500, ya que pasa a ser un precio muy elevado al estar el tope máximo del outlier a partir de los 323."
   ]
  },
  {
   "cell_type": "code",
   "execution_count": 52,
   "metadata": {},
   "outputs": [
    {
     "name": "stdout",
     "output_type": "stream",
     "text": [
      "Filas a borrar: 531\n"
     ]
    }
   ],
   "source": [
    "filtro_price = df['price'] > 500\n",
    "print('Filas a borrar:', df['price'][filtro_price].count())\n",
    "df.drop(df['price'][filtro_price].index, axis=0, inplace=True)"
   ]
  },
  {
   "cell_type": "markdown",
   "metadata": {},
   "source": [
    "Una vez recortados los valores máximos fuera del rango, procedemos a aplicarles z-score.<br>\n",
    "Se ha intentado realizar para todos los valores, pero tarda mucho, así que solo como ejemplo se va a realizar para la columna `minimum_nights` el paso a z-score."
   ]
  },
  {
   "cell_type": "code",
   "execution_count": 53,
   "metadata": {},
   "outputs": [],
   "source": [
    "from scipy.stats import zscore\n",
    "df_zscore = df[['minimum_nights']].apply(zscore)"
   ]
  },
  {
   "cell_type": "code",
   "execution_count": 54,
   "metadata": {},
   "outputs": [
    {
     "data": {
      "image/png": "[encoded data removed]",
      "text/plain": [
       "<Figure size 720x288 with 2 Axes>"
      ]
     },
     "metadata": {
      "needs_background": "light"
     },
     "output_type": "display_data"
    }
   ],
   "source": [
    "fig = plt.figure(figsize=(10, 4))\n",
    "fig.add_subplot(1, 2, 1)\n",
    "plt.scatter(df_zscore,df['price'])\n",
    "plt.title('Con Z-Score')\n",
    "fig.add_subplot(1, 2, 2)\n",
    "plt.scatter(df['minimum_nights'],df['price'])\n",
    "plt.title('Sin Z-Score')\n",
    "plt.show()"
   ]
  },
  {
   "cell_type": "markdown",
   "metadata": {},
   "source": [
    "En la gráfica vemos que los valores tanto originales como los que se han convertido solo cambian en la escala cuando los comparamos con `price`."
   ]
  },
  {
   "cell_type": "markdown",
   "metadata": {},
   "source": [
    "### Correlación"
   ]
  },
  {
   "cell_type": "code",
   "execution_count": 55,
   "metadata": {},
   "outputs": [
    {
     "data": {
      "image/png": "[encoded data removed]",
      "text/plain": [
       "<Figure size 1440x576 with 2 Axes>"
      ]
     },
     "metadata": {
      "needs_background": "light"
     },
     "output_type": "display_data"
    }
   ],
   "source": [
    "corr = df.corr()\n",
    "\n",
    "plt.figure(figsize=(20,8))\n",
    "\n",
    "sns.heatmap(corr, \n",
    "            cmap='coolwarm',\n",
    "            linewidths=0.5,\n",
    "            linecolor='white',\n",
    "            annot=True,\n",
    "            vmin=-1)\n",
    "\n",
    "plt.show()"
   ]
  },
  {
   "cell_type": "markdown",
   "metadata": {},
   "source": [
    "Vemos que los únicos valores con una alta correlación son `price` y `week_price` con un 1 (correlación total), ya que el segundo valor es el primero múltiplicado por 7. Por tanto, `week_price` puede ser borrada, ya que no nos aporta valor a los datos.<br>\n",
    "Del resto, no existe ninguna otra correlación alta, ya que el siguiente valor sería 0.56 entre `room_type` y `price`, y no serían descartables.<br><br>\n",
    "Borramos la columna `week_price`"
   ]
  },
  {
   "cell_type": "code",
   "execution_count": 56,
   "metadata": {},
   "outputs": [],
   "source": [
    "df.drop(['week_price'], axis=1, inplace=True)"
   ]
  },
  {
   "cell_type": "code",
   "execution_count": 57,
   "metadata": {},
   "outputs": [
    {
     "data": {
      "text/plain": [
       "(32618, 13)"
      ]
     },
     "execution_count": 57,
     "metadata": {},
     "output_type": "execute_result"
    }
   ],
   "source": [
    "df.shape"
   ]
  },
  {
   "cell_type": "markdown",
   "metadata": {},
   "source": [
    "### Conclusiones\n",
    "El dataset al comenzar tenía 48895 filas y 20 columnas, ahora lo hemos dejado en 32618 filas y 13 columnas, todas númericas y preparadas para realizar tareas de entrenamiento.<br>\n",
    "Una vez que ya conocemos el dataset, en caso de tener que volver a preparar los datos, por ejemplo porque estos no se adapten bien a las técnicas de ML con buenos resultados, podríamos cambiar el orden de algunos pasos, como los borrados de columnas, que hemos realizado hasta en el último paso. De este modo reduciríamos el tratamiento de los datos solo a las 13 columnas que hemos dejado y modificando lo necesario, por ejemplo, realizando otros tratamientos en las columnas con outliers."
   ]
  }
 ],
 "metadata": {
  "interpreter": {
   "hash": "2854cb01277b29a881848397f272db449d85f1931b54b3c7d169ec24d66118cc"
  },
  "kernelspec": {
   "display_name": "Python 3.10.0 64-bit",
   "language": "python",
   "name": "python3"
  },
  "language_info": {
   "codemirror_mode": {
    "name": "ipython",
    "version": 3
   },
   "file_extension": ".py",
   "mimetype": "text/x-python",
   "name": "python",
   "nbconvert_exporter": "python",
   "pygments_lexer": "ipython3",
   "version": "3.10.0"
  },
  "orig_nbformat": 4
 },
 "nbformat": 4,
 "nbformat_minor": 2
}
