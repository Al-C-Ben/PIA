{
 "cells": [
  {
   "cell_type": "markdown",
   "metadata": {},
   "source": [
    "# Práctica 5 - ML\n",
    "## Bike Rentals\n",
    "En esta práctica, vamos a aplicar distintos estimadores de regresión como de clasificación, a un conjunto de datos sobre alquiler de bicicletas. Donde se quiere estimar el número de bicicletas que se alquilarán dependiendo de factores climáticos (temperatura, humedad,...) y de la tipología del día (festivo, día de la semana,...)."
   ]
  },
  {
   "cell_type": "markdown",
   "metadata": {},
   "source": [
    "### Carga de librerías"
   ]
  },
  {
   "cell_type": "code",
   "execution_count": 1,
   "metadata": {},
   "outputs": [],
   "source": [
    "import pandas as pd\n",
    "import numpy as np\n",
    "import matplotlib.pyplot as plt"
   ]
  },
  {
   "cell_type": "markdown",
   "metadata": {},
   "source": [
    "### Carga de datos en un DataFrame"
   ]
  },
  {
   "cell_type": "code",
   "execution_count": 2,
   "metadata": {},
   "outputs": [],
   "source": [
    "df = pd.read_csv('bike_rentals.csv')"
   ]
  },
  {
   "cell_type": "markdown",
   "metadata": {},
   "source": [
    "Visualizamos los datos cargados."
   ]
  },
  {
   "cell_type": "code",
   "execution_count": 3,
   "metadata": {},
   "outputs": [
    {
     "data": {
      "text/html": [
       "<div>\n",
       "<style scoped>\n",
       "    .dataframe tbody tr th:only-of-type {\n",
       "        vertical-align: middle;\n",
       "    }\n",
       "\n",
       "    .dataframe tbody tr th {\n",
       "        vertical-align: top;\n",
       "    }\n",
       "\n",
       "    .dataframe thead th {\n",
       "        text-align: right;\n",
       "    }\n",
       "</style>\n",
       "<table border=\"1\" class=\"dataframe\">\n",
       "  <thead>\n",
       "    <tr style=\"text-align: right;\">\n",
       "      <th></th>\n",
       "      <th>instant</th>\n",
       "      <th>season</th>\n",
       "      <th>yr</th>\n",
       "      <th>mnth</th>\n",
       "      <th>holiday</th>\n",
       "      <th>weekday</th>\n",
       "      <th>workingday</th>\n",
       "      <th>weathersit</th>\n",
       "      <th>temp</th>\n",
       "      <th>atemp</th>\n",
       "      <th>hum</th>\n",
       "      <th>windspeed</th>\n",
       "      <th>cnt</th>\n",
       "    </tr>\n",
       "  </thead>\n",
       "  <tbody>\n",
       "    <tr>\n",
       "      <th>0</th>\n",
       "      <td>1</td>\n",
       "      <td>1.0</td>\n",
       "      <td>0.0</td>\n",
       "      <td>1.0</td>\n",
       "      <td>0.0</td>\n",
       "      <td>6.0</td>\n",
       "      <td>0.0</td>\n",
       "      <td>2</td>\n",
       "      <td>0.344167</td>\n",
       "      <td>0.363625</td>\n",
       "      <td>0.805833</td>\n",
       "      <td>0.160446</td>\n",
       "      <td>985</td>\n",
       "    </tr>\n",
       "    <tr>\n",
       "      <th>1</th>\n",
       "      <td>2</td>\n",
       "      <td>1.0</td>\n",
       "      <td>0.0</td>\n",
       "      <td>1.0</td>\n",
       "      <td>0.0</td>\n",
       "      <td>0.0</td>\n",
       "      <td>0.0</td>\n",
       "      <td>2</td>\n",
       "      <td>0.363478</td>\n",
       "      <td>0.353739</td>\n",
       "      <td>0.696087</td>\n",
       "      <td>0.248539</td>\n",
       "      <td>801</td>\n",
       "    </tr>\n",
       "    <tr>\n",
       "      <th>2</th>\n",
       "      <td>3</td>\n",
       "      <td>1.0</td>\n",
       "      <td>0.0</td>\n",
       "      <td>1.0</td>\n",
       "      <td>0.0</td>\n",
       "      <td>1.0</td>\n",
       "      <td>1.0</td>\n",
       "      <td>1</td>\n",
       "      <td>0.196364</td>\n",
       "      <td>0.189405</td>\n",
       "      <td>0.437273</td>\n",
       "      <td>0.248309</td>\n",
       "      <td>1349</td>\n",
       "    </tr>\n",
       "    <tr>\n",
       "      <th>3</th>\n",
       "      <td>4</td>\n",
       "      <td>1.0</td>\n",
       "      <td>0.0</td>\n",
       "      <td>1.0</td>\n",
       "      <td>0.0</td>\n",
       "      <td>2.0</td>\n",
       "      <td>1.0</td>\n",
       "      <td>1</td>\n",
       "      <td>0.200000</td>\n",
       "      <td>0.212122</td>\n",
       "      <td>0.590435</td>\n",
       "      <td>0.160296</td>\n",
       "      <td>1562</td>\n",
       "    </tr>\n",
       "    <tr>\n",
       "      <th>4</th>\n",
       "      <td>5</td>\n",
       "      <td>1.0</td>\n",
       "      <td>0.0</td>\n",
       "      <td>1.0</td>\n",
       "      <td>0.0</td>\n",
       "      <td>3.0</td>\n",
       "      <td>1.0</td>\n",
       "      <td>1</td>\n",
       "      <td>0.226957</td>\n",
       "      <td>0.229270</td>\n",
       "      <td>0.436957</td>\n",
       "      <td>0.186900</td>\n",
       "      <td>1600</td>\n",
       "    </tr>\n",
       "    <tr>\n",
       "      <th>...</th>\n",
       "      <td>...</td>\n",
       "      <td>...</td>\n",
       "      <td>...</td>\n",
       "      <td>...</td>\n",
       "      <td>...</td>\n",
       "      <td>...</td>\n",
       "      <td>...</td>\n",
       "      <td>...</td>\n",
       "      <td>...</td>\n",
       "      <td>...</td>\n",
       "      <td>...</td>\n",
       "      <td>...</td>\n",
       "      <td>...</td>\n",
       "    </tr>\n",
       "    <tr>\n",
       "      <th>726</th>\n",
       "      <td>727</td>\n",
       "      <td>1.0</td>\n",
       "      <td>1.0</td>\n",
       "      <td>12.0</td>\n",
       "      <td>0.0</td>\n",
       "      <td>4.0</td>\n",
       "      <td>1.0</td>\n",
       "      <td>2</td>\n",
       "      <td>0.254167</td>\n",
       "      <td>0.226642</td>\n",
       "      <td>0.652917</td>\n",
       "      <td>0.350133</td>\n",
       "      <td>2114</td>\n",
       "    </tr>\n",
       "    <tr>\n",
       "      <th>727</th>\n",
       "      <td>728</td>\n",
       "      <td>1.0</td>\n",
       "      <td>1.0</td>\n",
       "      <td>12.0</td>\n",
       "      <td>0.0</td>\n",
       "      <td>5.0</td>\n",
       "      <td>1.0</td>\n",
       "      <td>2</td>\n",
       "      <td>0.253333</td>\n",
       "      <td>0.255046</td>\n",
       "      <td>0.590000</td>\n",
       "      <td>0.155471</td>\n",
       "      <td>3095</td>\n",
       "    </tr>\n",
       "    <tr>\n",
       "      <th>728</th>\n",
       "      <td>729</td>\n",
       "      <td>1.0</td>\n",
       "      <td>1.0</td>\n",
       "      <td>12.0</td>\n",
       "      <td>0.0</td>\n",
       "      <td>6.0</td>\n",
       "      <td>0.0</td>\n",
       "      <td>2</td>\n",
       "      <td>0.253333</td>\n",
       "      <td>0.242400</td>\n",
       "      <td>0.752917</td>\n",
       "      <td>0.124383</td>\n",
       "      <td>1341</td>\n",
       "    </tr>\n",
       "    <tr>\n",
       "      <th>729</th>\n",
       "      <td>730</td>\n",
       "      <td>1.0</td>\n",
       "      <td>1.0</td>\n",
       "      <td>12.0</td>\n",
       "      <td>0.0</td>\n",
       "      <td>0.0</td>\n",
       "      <td>0.0</td>\n",
       "      <td>1</td>\n",
       "      <td>0.255833</td>\n",
       "      <td>0.231700</td>\n",
       "      <td>0.483333</td>\n",
       "      <td>0.350754</td>\n",
       "      <td>1796</td>\n",
       "    </tr>\n",
       "    <tr>\n",
       "      <th>730</th>\n",
       "      <td>731</td>\n",
       "      <td>1.0</td>\n",
       "      <td>1.0</td>\n",
       "      <td>12.0</td>\n",
       "      <td>0.0</td>\n",
       "      <td>1.0</td>\n",
       "      <td>0.0</td>\n",
       "      <td>2</td>\n",
       "      <td>0.215833</td>\n",
       "      <td>0.223487</td>\n",
       "      <td>0.577500</td>\n",
       "      <td>0.154846</td>\n",
       "      <td>2729</td>\n",
       "    </tr>\n",
       "  </tbody>\n",
       "</table>\n",
       "<p>731 rows × 13 columns</p>\n",
       "</div>"
      ],
      "text/plain": [
       "     instant  season   yr  mnth  holiday  weekday  workingday  weathersit  \\\n",
       "0          1     1.0  0.0   1.0      0.0      6.0         0.0           2   \n",
       "1          2     1.0  0.0   1.0      0.0      0.0         0.0           2   \n",
       "2          3     1.0  0.0   1.0      0.0      1.0         1.0           1   \n",
       "3          4     1.0  0.0   1.0      0.0      2.0         1.0           1   \n",
       "4          5     1.0  0.0   1.0      0.0      3.0         1.0           1   \n",
       "..       ...     ...  ...   ...      ...      ...         ...         ...   \n",
       "726      727     1.0  1.0  12.0      0.0      4.0         1.0           2   \n",
       "727      728     1.0  1.0  12.0      0.0      5.0         1.0           2   \n",
       "728      729     1.0  1.0  12.0      0.0      6.0         0.0           2   \n",
       "729      730     1.0  1.0  12.0      0.0      0.0         0.0           1   \n",
       "730      731     1.0  1.0  12.0      0.0      1.0         0.0           2   \n",
       "\n",
       "         temp     atemp       hum  windspeed   cnt  \n",
       "0    0.344167  0.363625  0.805833   0.160446   985  \n",
       "1    0.363478  0.353739  0.696087   0.248539   801  \n",
       "2    0.196364  0.189405  0.437273   0.248309  1349  \n",
       "3    0.200000  0.212122  0.590435   0.160296  1562  \n",
       "4    0.226957  0.229270  0.436957   0.186900  1600  \n",
       "..        ...       ...       ...        ...   ...  \n",
       "726  0.254167  0.226642  0.652917   0.350133  2114  \n",
       "727  0.253333  0.255046  0.590000   0.155471  3095  \n",
       "728  0.253333  0.242400  0.752917   0.124383  1341  \n",
       "729  0.255833  0.231700  0.483333   0.350754  1796  \n",
       "730  0.215833  0.223487  0.577500   0.154846  2729  \n",
       "\n",
       "[731 rows x 13 columns]"
      ]
     },
     "execution_count": 3,
     "metadata": {},
     "output_type": "execute_result"
    }
   ],
   "source": [
    "df"
   ]
  },
  {
   "cell_type": "markdown",
   "metadata": {},
   "source": [
    "Los datos parecen apropiados, a excepción de la columna `instant` que puede ser descartada al ser similar al índice del DataFrame y no nos aporta información relevante."
   ]
  },
  {
   "cell_type": "code",
   "execution_count": 4,
   "metadata": {},
   "outputs": [
    {
     "name": "stdout",
     "output_type": "stream",
     "text": [
      "<class 'pandas.core.frame.DataFrame'>\n",
      "RangeIndex: 731 entries, 0 to 730\n",
      "Data columns (total 13 columns):\n",
      " #   Column      Non-Null Count  Dtype  \n",
      "---  ------      --------------  -----  \n",
      " 0   instant     731 non-null    int64  \n",
      " 1   season      731 non-null    float64\n",
      " 2   yr          731 non-null    float64\n",
      " 3   mnth        731 non-null    float64\n",
      " 4   holiday     731 non-null    float64\n",
      " 5   weekday     731 non-null    float64\n",
      " 6   workingday  731 non-null    float64\n",
      " 7   weathersit  731 non-null    int64  \n",
      " 8   temp        731 non-null    float64\n",
      " 9   atemp       731 non-null    float64\n",
      " 10  hum         731 non-null    float64\n",
      " 11  windspeed   731 non-null    float64\n",
      " 12  cnt         731 non-null    int64  \n",
      "dtypes: float64(10), int64(3)\n",
      "memory usage: 74.4 KB\n"
     ]
    }
   ],
   "source": [
    "df.info()"
   ]
  },
  {
   "cell_type": "markdown",
   "metadata": {},
   "source": [
    "Vemos que los datos son númericos y que no contienen nulos."
   ]
  },
  {
   "cell_type": "markdown",
   "metadata": {},
   "source": [
    "Estudiemos la columna `cnt` que será nuestra columna a predecir."
   ]
  },
  {
   "cell_type": "code",
   "execution_count": 5,
   "metadata": {},
   "outputs": [
    {
     "data": {
      "image/png": "[encoded data removed]",
      "text/plain": [
       "<Figure size 432x288 with 1 Axes>"
      ]
     },
     "metadata": {
      "needs_background": "light"
     },
     "output_type": "display_data"
    }
   ],
   "source": [
    "plt.hist(df['cnt'])\n",
    "plt.show()"
   ]
  },
  {
   "cell_type": "markdown",
   "metadata": {},
   "source": [
    "Los datos de `cnt` tienen una forma normal, por lo que se aconseja que a la hora de realizar la separación de datos de entrenamiento y test, se añada el hiperparámetro `stratify` para compensar los valores extremos de la normal.<br>\n",
    "Para poder aplicar la estratificación, crearemos una nueva columna `cnt_cod` que contendrá los valores del millar al que pertenecen, por lo que la columna `cnt` la dividiremos por mil y nos quedaremos con la parte entera."
   ]
  },
  {
   "cell_type": "code",
   "execution_count": 6,
   "metadata": {},
   "outputs": [
    {
     "data": {
      "text/plain": [
       "0      0\n",
       "1      0\n",
       "2      1\n",
       "3      1\n",
       "4      1\n",
       "      ..\n",
       "726    2\n",
       "727    3\n",
       "728    1\n",
       "729    1\n",
       "730    2\n",
       "Name: cnt_cod, Length: 731, dtype: int64"
      ]
     },
     "execution_count": 6,
     "metadata": {},
     "output_type": "execute_result"
    }
   ],
   "source": [
    "df['cnt_cod'] = np.trunc(df['cnt'] / 1000).astype('int64')\n",
    "df['cnt_cod']"
   ]
  },
  {
   "cell_type": "markdown",
   "metadata": {},
   "source": [
    "## Datos de Entrenamiento y Test"
   ]
  },
  {
   "cell_type": "markdown",
   "metadata": {},
   "source": [
    "Tomamos como `X` todos los datos excepto `instant`, `cnt` y `cnt_cod`.<br>\n",
    "Para la `y` tomamos la columna `cnt`.<br>\n",
    "Para los datos de clasificación, creamos la `y_cod` con la columna `cnt_cod`"
   ]
  },
  {
   "cell_type": "code",
   "execution_count": 7,
   "metadata": {},
   "outputs": [],
   "source": [
    "X = df.drop(['instant','cnt','cnt_cod'], axis=1)\n",
    "y = df['cnt']\n",
    "y_cod = df['cnt_cod']"
   ]
  },
  {
   "cell_type": "markdown",
   "metadata": {},
   "source": [
    "Entrenamos los datos, separando un 70% de datos para entrenamiento y un 30% para test.<br>\n",
    "También aplicamos la estratificación a la columna `y_cod`, como indicamos anteriormente.<br>\n",
    "Aprovechamos la ejecución del entrenamiento, para obtener las `y` tanto para regresión como clasificación, y que estas tengan las mismas `X` durante todas las pruebas."
   ]
  },
  {
   "cell_type": "code",
   "execution_count": 8,
   "metadata": {},
   "outputs": [],
   "source": [
    "from sklearn.model_selection import train_test_split\n",
    "\n",
    "X_train, X_test, y_train, y_test, y_train_clf, y_test_clf = train_test_split (X, y, y_cod,\n",
    "                                                                            train_size=0.7, \n",
    "                                                                            shuffle=True,\n",
    "                                                                            stratify=y_cod)"
   ]
  },
  {
   "cell_type": "markdown",
   "metadata": {},
   "source": [
    "## Regresión"
   ]
  },
  {
   "cell_type": "markdown",
   "metadata": {},
   "source": [
    "### Linear Regresion"
   ]
  },
  {
   "cell_type": "markdown",
   "metadata": {},
   "source": [
    "Aplicamos el estimador."
   ]
  },
  {
   "cell_type": "code",
   "execution_count": 9,
   "metadata": {},
   "outputs": [
    {
     "name": "stdout",
     "output_type": "stream",
     "text": [
      "Entrenamiento: 0.7938092959822094\n",
      "Test 0.8085654813163714\n"
     ]
    }
   ],
   "source": [
    "from sklearn.linear_model import LinearRegression\n",
    "\n",
    "modelo = LinearRegression()\n",
    "modelo.fit(X_train, y_train)\n",
    "\n",
    "print('Entrenamiento:', modelo.score(X_train, y_train)) #score de entrenamiento\n",
    "print('Test', modelo.score(X_test, y_test))  #score de generalizacion"
   ]
  },
  {
   "cell_type": "markdown",
   "metadata": {},
   "source": [
    "Vemos que da unos buenos valores de entrenamiento y test.\n",
    "\n",
    "Apliquemos `Cross Validate` para todo el conjunto de datos."
   ]
  },
  {
   "cell_type": "code",
   "execution_count": 10,
   "metadata": {},
   "outputs": [
    {
     "name": "stdout",
     "output_type": "stream",
     "text": [
      "Entrenamiento: 0.7943183752711179\n",
      "Test 0.14698268997300484\n"
     ]
    }
   ],
   "source": [
    "from sklearn.model_selection import cross_validate\n",
    "\n",
    "cv = cross_validate(LinearRegression(),\n",
    "                X, y,\n",
    "                cv=None,\n",
    "                return_train_score=True)\n",
    "\n",
    "print('Entrenamiento:', np.mean(cv['train_score']))\n",
    "print('Test', np.mean(cv['test_score']))"
   ]
  },
  {
   "cell_type": "markdown",
   "metadata": {},
   "source": [
    "Vemos que nos da unos valores muy bajos en Test.<br>\n",
    "Se ha comprobado con ejecuciones externas, que no se recogen en este documento, que cuando los datos de entrada para la `y` no se encuentran estratificados o, simplemente, no se barajan los datos, estos tienen una ordenación que por defecto hacen que el modelo generado no sea bueno.\n",
    "\n",
    "Con estas consideraciones, vamos a aplicar con `KFold` que los datos se barajen cuando se apliquen a todo el DataFrame."
   ]
  },
  {
   "cell_type": "code",
   "execution_count": 11,
   "metadata": {},
   "outputs": [
    {
     "name": "stdout",
     "output_type": "stream",
     "text": [
      "Entrenamiento: 0.8014906829631914\n",
      "Test 0.7846470580865385\n"
     ]
    }
   ],
   "source": [
    "from sklearn.model_selection import cross_validate\n",
    "from sklearn.model_selection import KFold\n",
    "\n",
    "skf = KFold(n_splits=5,shuffle=True)\n",
    "\n",
    "cv = cross_validate(LinearRegression(),\n",
    "                X, y,\n",
    "                cv=skf,\n",
    "                return_train_score=True)\n",
    "\n",
    "print('Entrenamiento:', np.mean(cv['train_score']))\n",
    "print('Test', np.mean(cv['test_score']))"
   ]
  },
  {
   "cell_type": "markdown",
   "metadata": {},
   "source": [
    "Ahora si tendemos a unos datos similares a los que obtuvimos en primera instancia con este estimador, teniendo valores de entrenamiento y test muy similares, entorno al 80%."
   ]
  },
  {
   "cell_type": "markdown",
   "metadata": {},
   "source": [
    "### Regresión Polinómica"
   ]
  },
  {
   "cell_type": "markdown",
   "metadata": {},
   "source": [
    "Aplicamos el estimador de regresión polinómica para grado 2."
   ]
  },
  {
   "cell_type": "code",
   "execution_count": 12,
   "metadata": {},
   "outputs": [
    {
     "name": "stdout",
     "output_type": "stream",
     "text": [
      "Entrenamiento: 0.8998717396586446\n",
      "Test 0.8768031317779971\n"
     ]
    }
   ],
   "source": [
    "from sklearn.preprocessing import PolynomialFeatures\n",
    "\n",
    "pf = PolynomialFeatures(degree=2)\n",
    "X_train_pol = pf.fit_transform(X_train)  # Procesamos los datos de train\n",
    "modelo = LinearRegression()\n",
    "modelo.fit(X_train_pol, y_train)\n",
    "\n",
    "print('Entrenamiento:', modelo.score(X_train_pol, y_train)) \n",
    "X_test_pol = pf.fit_transform(X_test)   # Procesamos los datos de test\n",
    "print('Test', modelo.score(X_test_pol, y_test)) "
   ]
  },
  {
   "cell_type": "markdown",
   "metadata": {},
   "source": [
    "Parece que también nos da una buena estimación, con unos valores de entrenamiento y test, no muy dispares.\n",
    "\n",
    "Realicemos `Cross Validate` a este estimador. También le aplicaremos el barajado de los datos."
   ]
  },
  {
   "cell_type": "code",
   "execution_count": 13,
   "metadata": {},
   "outputs": [
    {
     "name": "stdout",
     "output_type": "stream",
     "text": [
      "Entrenamiento: 0.8210058871734113\n",
      "Test 0.7145856701741276\n"
     ]
    }
   ],
   "source": [
    "skf = KFold(n_splits=5,shuffle=True)\n",
    "\n",
    "pf = PolynomialFeatures(degree=2)\n",
    "X_pol = pf.fit_transform(X)\n",
    "cv = cross_validate(LinearRegression(),\n",
    "                X_pol, y,\n",
    "                cv=skf,\n",
    "                return_train_score=True)\n",
    "\n",
    "print('Entrenamiento:', np.mean(cv['train_score']))\n",
    "print('Test', np.mean(cv['test_score']))"
   ]
  },
  {
   "cell_type": "markdown",
   "metadata": {},
   "source": [
    "Así, ya la salida que nos ofrece, no son tan parejos los valores, bajando el test. Por lo que no es tan bueno este estimador como el de regresión linear."
   ]
  },
  {
   "cell_type": "markdown",
   "metadata": {},
   "source": [
    "Apliquemos ahora el estimador polinómico con grado 4."
   ]
  },
  {
   "cell_type": "code",
   "execution_count": 14,
   "metadata": {},
   "outputs": [
    {
     "name": "stdout",
     "output_type": "stream",
     "text": [
      "Entrenamiento: 1.0\n",
      "Test -574.9740626018142\n"
     ]
    }
   ],
   "source": [
    "from sklearn.preprocessing import PolynomialFeatures\n",
    "\n",
    "pf = PolynomialFeatures(degree=4)\n",
    "X_train_pol = pf.fit_transform(X_train)\n",
    "modelo = LinearRegression()\n",
    "modelo.fit(X_train_pol, y_train)\n",
    "\n",
    "print('Entrenamiento:', modelo.score(X_train_pol, y_train)) \n",
    "X_test_pol = pf.fit_transform(X_test)\n",
    "print('Test', modelo.score(X_test_pol, y_test)) "
   ]
  },
  {
   "cell_type": "markdown",
   "metadata": {},
   "source": [
    "Vemos que al subir de grado, tenemos sobre entrenamiento, por lo que no mejoraremos subiendo de grado."
   ]
  },
  {
   "cell_type": "markdown",
   "metadata": {},
   "source": [
    "### SVR"
   ]
  },
  {
   "cell_type": "markdown",
   "metadata": {},
   "source": [
    "Aplicamos el estimador SVR."
   ]
  },
  {
   "cell_type": "code",
   "execution_count": 15,
   "metadata": {},
   "outputs": [
    {
     "name": "stdout",
     "output_type": "stream",
     "text": [
      "Entrenamiento: 0.002987728888589558\n",
      "Test 0.002540133023248181\n"
     ]
    }
   ],
   "source": [
    "from sklearn.svm import SVR\n",
    "\n",
    "modelo = SVR(C=1,gamma=1)\n",
    "modelo.fit(X_train, y_train)\n",
    "\n",
    "print('Entrenamiento:', modelo.score(X_train, y_train))\n",
    "print('Test', modelo.score(X_test, y_test))"
   ]
  },
  {
   "cell_type": "markdown",
   "metadata": {},
   "source": [
    "Obtenemos unos valores muy bajos, entorno a cero.<br>\n",
    "Veamos que ocurre si aplicamos `Cross Validate`."
   ]
  },
  {
   "cell_type": "code",
   "execution_count": 16,
   "metadata": {},
   "outputs": [
    {
     "name": "stdout",
     "output_type": "stream",
     "text": [
      "Entrenamiento: 0.010721263321363406\n",
      "Test -0.016615642870486225\n"
     ]
    }
   ],
   "source": [
    "skf = KFold(n_splits=5,shuffle=True)\n",
    "\n",
    "model = SVR()\n",
    "cv = cross_validate(model,\n",
    "                X_train, y_train,\n",
    "                cv=skf,\n",
    "                return_train_score=True)\n",
    "\n",
    "print('Entrenamiento:', np.mean(cv['train_score']))\n",
    "print('Test', np.mean(cv['test_score']))"
   ]
  },
  {
   "cell_type": "markdown",
   "metadata": {},
   "source": [
    "Los valores son similares a los recogidos en primera instancia, quedan entorno a cero.\n",
    "\n",
    "Como SVR tiene hiperparámetros de entrada que pueden ser modificados para ajustarse a los datos que tenemos y que queremos predecir, vamos a aplicarle `Grid Search`. Ya que con esta técnica si que podremos ir probando para distintos hiperparámetros del estimador.\n",
    "\n",
    "Los hiperparámetros a probar serán: `C` con valores de 1 a 39, y `gamma` con 4 posibles valores."
   ]
  },
  {
   "cell_type": "code",
   "execution_count": 17,
   "metadata": {},
   "outputs": [
    {
     "name": "stdout",
     "output_type": "stream",
     "text": [
      "Best score: 0.2815441349327708\n",
      "Mejores parámetros: SVR(C=39, gamma=0.1)\n",
      "Entrenamiento: 0.35114195251047786\n",
      "Test: 0.37420507626017774\n"
     ]
    }
   ],
   "source": [
    "from sklearn.model_selection import GridSearchCV\n",
    "\n",
    "model = SVR()\n",
    "param_grid = {\n",
    "    'C': range(1, 40),\n",
    "    'gamma': [0.001, 0.01, 0.1, 1]\n",
    "    }\n",
    "gs = GridSearchCV(model, param_grid, cv=5)\n",
    "gs.fit(X_train,y_train)\n",
    "\n",
    "print('Best score:', gs.best_score_)\n",
    "print('Mejores parámetros:', gs.best_estimator_)\n",
    "print('Entrenamiento:', gs.score(X_train, y_train))\n",
    "print('Test:', gs.score(X_test, y_test))"
   ]
  },
  {
   "cell_type": "markdown",
   "metadata": {},
   "source": [
    "Con estos cambios, tanto el entrenamiento como el test comienzan a funcionar mejor que con los valores por defecto de `SVR`.<br>\n",
    "Vemos que para los mejores parámetros, el valor de `C` está en el límite superior que hemos escogido, por lo que vamos a ejecutarlo de nuevo, pero cambiando el rango a verificar de 40 a 79."
   ]
  },
  {
   "cell_type": "code",
   "execution_count": 18,
   "metadata": {},
   "outputs": [
    {
     "name": "stdout",
     "output_type": "stream",
     "text": [
      "Best score: 0.4208506745440295\n",
      "Mejores parámetros: SVR(C=79, gamma=0.1)\n",
      "Entrenamiento: 0.5004824111757222\n",
      "Test: 0.5302464439525674\n"
     ]
    }
   ],
   "source": [
    "model = SVR()\n",
    "param_grid = {\n",
    "    'C': range(40, 80),\n",
    "    'gamma': [0.001, 0.01, 0.1, 1]\n",
    "}\n",
    "gs = GridSearchCV(model, param_grid, cv=5)\n",
    "gs.fit(X_train,y_train)\n",
    "\n",
    "print('Best score:', gs.best_score_)\n",
    "print('Mejores parámetros:', gs.best_estimator_)\n",
    "print('Entrenamiento:', gs.score(X_train, y_train))\n",
    "print('Test:', gs.score(X_test, y_test))"
   ]
  },
  {
   "cell_type": "markdown",
   "metadata": {},
   "source": [
    "Subimos hasta un 50%, por lo que estos cambios en los hiperparámetros están surtiendo efecto.\n",
    "\n",
    "Tras varios lanzamientos, se ve que un valor alto de `C` influye mucho en la estimación, por lo que se pone un listado con valores altísimos para verificar, esta teoría."
   ]
  },
  {
   "cell_type": "code",
   "execution_count": 19,
   "metadata": {},
   "outputs": [
    {
     "name": "stdout",
     "output_type": "stream",
     "text": [
      "Best score: 0.8057367884942913\n",
      "Mejores parámetros: SVR(C=80000, gamma=0.01)\n",
      "Entrenamiento: 0.8382512578087058\n",
      "Test: 0.8593681049331086\n"
     ]
    }
   ],
   "source": [
    "model = SVR()\n",
    "param_grid = {\n",
    "    'C': [10000, 20000, 30000, 40000, 50000, 60000, 70000, 80000],\n",
    "    'gamma': [0.00001, 0.0001, 0.001, 0.01]\n",
    "}\n",
    "gs = GridSearchCV(model, param_grid, cv=5)\n",
    "gs.fit(X_train,y_train)\n",
    "\n",
    "print('Best score:', gs.best_score_)\n",
    "print('Mejores parámetros:', gs.best_estimator_)\n",
    "print('Entrenamiento:', gs.score(X_train, y_train))\n",
    "print('Test:', gs.score(X_test, y_test))"
   ]
  },
  {
   "cell_type": "markdown",
   "metadata": {},
   "source": [
    "Como podemos observar, con grandes valores de `C`, obtenemos unos resultados que llegan al 80%, como con la regresión lineal."
   ]
  },
  {
   "cell_type": "markdown",
   "metadata": {},
   "source": [
    "### LinearSVR"
   ]
  },
  {
   "cell_type": "markdown",
   "metadata": {},
   "source": [
    "Apliquemos el estimador `LinearSVR`."
   ]
  },
  {
   "cell_type": "code",
   "execution_count": 20,
   "metadata": {},
   "outputs": [
    {
     "name": "stdout",
     "output_type": "stream",
     "text": [
      "Entrenamiento: 0.002987728888589558\n",
      "Test 0.002540133023248181\n"
     ]
    }
   ],
   "source": [
    "from sklearn.svm import LinearSVR\n",
    "\n",
    "model = LinearSVR(C=1.0, epsilon=0.1)\n",
    "model.fit(X_train, y_train)\n",
    "\n",
    "print('Entrenamiento:', modelo.score(X_train, y_train))\n",
    "print('Test', modelo.score(X_test, y_test)) "
   ]
  },
  {
   "cell_type": "markdown",
   "metadata": {},
   "source": [
    "Nos da valores en el cero.<br>\n",
    "Al igual que con `SVR`, este estimador tiene hiperparámetros que pueden modificarse, por lo que también le aplicaremos `Grid Search`, y puesto que el anterior funcionaba bien con valores de `C` altos, aquí también los pondremos elevados."
   ]
  },
  {
   "cell_type": "code",
   "execution_count": 21,
   "metadata": {},
   "outputs": [
    {
     "name": "stdout",
     "output_type": "stream",
     "text": [
      "Best score: 0.7806340266129371\n",
      "Mejores parámetros: LinearSVR(C=800, epsilon=0.0001, max_iter=100000)\n",
      "Entrenamiento: 0.7893360714541354\n",
      "Test: 0.8183345684253052\n"
     ]
    }
   ],
   "source": [
    "model = LinearSVR()\n",
    "param_grid = {\n",
    "    'C': [100, 200, 300, 400, 500, 600, 700, 800],\n",
    "    'epsilon': [0.00001, 0.0001, 0.001, 0.01],\n",
    "    'max_iter': [100000]\n",
    "}\n",
    "gs = GridSearchCV(model, param_grid, cv=5)\n",
    "gs.fit(X_train,y_train)\n",
    "\n",
    "print('Best score:', gs.best_score_)\n",
    "print('Mejores parámetros:', gs.best_estimator_)\n",
    "print('Entrenamiento:', gs.score(X_train, y_train))\n",
    "print('Test:', gs.score(X_test, y_test))"
   ]
  },
  {
   "cell_type": "markdown",
   "metadata": {},
   "source": [
    "Vemos que también funciona bien el estimador, con el *tunning* apropiado, dando valores similares a regresión lineal como SVR."
   ]
  },
  {
   "cell_type": "markdown",
   "metadata": {},
   "source": [
    "## Clasificación"
   ]
  },
  {
   "cell_type": "markdown",
   "metadata": {},
   "source": [
    "### SVC"
   ]
  },
  {
   "cell_type": "markdown",
   "metadata": {},
   "source": [
    "Apliquemos el estimador `SVC` de clasificación."
   ]
  },
  {
   "cell_type": "code",
   "execution_count": 22,
   "metadata": {},
   "outputs": [
    {
     "name": "stdout",
     "output_type": "stream",
     "text": [
      "Entrenamiento: 0.4227005870841487\n",
      "Test: 0.43636363636363634\n"
     ]
    }
   ],
   "source": [
    "from sklearn.svm import SVC\n",
    "\n",
    "clf = SVC(C=1.0, kernel='rbf', gamma='scale')\n",
    "clf.fit(X_train, y_train_clf)\n",
    "\n",
    "print('Entrenamiento:', clf.score(X_train, y_train_clf))\n",
    "print('Test:', clf.score(X_test, y_test_clf))"
   ]
  },
  {
   "cell_type": "markdown",
   "metadata": {},
   "source": [
    "Con este estimador no llegamos al 50% de acierto.\n",
    "\n",
    "Veamos si aplicando `Grid Search` podemos mejorar, con la modificación de sus hiperparámetros."
   ]
  },
  {
   "cell_type": "code",
   "execution_count": 23,
   "metadata": {},
   "outputs": [
    {
     "name": "stdout",
     "output_type": "stream",
     "text": [
      "Best score: 0.495183704549781\n",
      "Mejores parámetros: SVC(C=100, gamma=0.01)\n",
      "Entrenamiento: 0.6379647749510763\n",
      "Test: 0.5590909090909091\n"
     ]
    }
   ],
   "source": [
    "model = SVC()\n",
    "param_grid = {\n",
    "    'C': [1, 2, 3, 100, 200, 300],\n",
    "    'gamma': [0.0001, 0.001, 0.01, 0.1, 1]\n",
    "}\n",
    "gs = GridSearchCV(model, param_grid, cv=5)\n",
    "gs.fit(X_train,y_train_clf)\n",
    "\n",
    "print('Best score:', gs.best_score_)\n",
    "print('Mejores parámetros:', gs.best_estimator_)\n",
    "print('Entrenamiento:', gs.score(X_train, y_train_clf))\n",
    "print('Test:', gs.score(X_test, y_test_clf))"
   ]
  },
  {
   "cell_type": "markdown",
   "metadata": {},
   "source": [
    "Así, ya tenemos al menos una aproximación al 50% de acierto, que no es mejor que los estimadores de regresión, pero si que mejora los resultados iniciales de este estimador."
   ]
  },
  {
   "cell_type": "markdown",
   "metadata": {},
   "source": [
    "### Árbol de decisión"
   ]
  },
  {
   "cell_type": "markdown",
   "metadata": {},
   "source": [
    "Apliquemos el estimador del árbol de decisión."
   ]
  },
  {
   "cell_type": "code",
   "execution_count": 24,
   "metadata": {},
   "outputs": [
    {
     "name": "stdout",
     "output_type": "stream",
     "text": [
      "Entrenamiento: 1.0\n",
      "Test: 0.5181818181818182\n"
     ]
    }
   ],
   "source": [
    "from sklearn.tree import DecisionTreeClassifier\n",
    "\n",
    "arbol = DecisionTreeClassifier(\n",
    "    criterion='entropy'\n",
    "    )\n",
    "\n",
    "arbol.fit(X_train,y_train_clf)\n",
    "\n",
    "print('Entrenamiento:', arbol.score(X_train, y_train_clf))\n",
    "print('Test:', arbol.score(X_test, y_test_clf))"
   ]
  },
  {
   "cell_type": "markdown",
   "metadata": {},
   "source": [
    "Vemos que por defecto, nos está dando un sobreentranamiento de los datos.<br>\n",
    "Apliquemos `Grid Search`."
   ]
  },
  {
   "cell_type": "code",
   "execution_count": 25,
   "metadata": {},
   "outputs": [
    {
     "name": "stdout",
     "output_type": "stream",
     "text": [
      "Best score: 0.5107367218732154\n",
      "Mejores parámetros: DecisionTreeClassifier(max_depth=10)\n",
      "Entrenamiento: 0.8864970645792564\n",
      "Test: 0.5045454545454545\n"
     ]
    }
   ],
   "source": [
    "model = DecisionTreeClassifier()\n",
    "param_grid = {\n",
    "    'criterion': ['gini','entropy'],\n",
    "    'max_depth': [None, 5, 10, 50, 100],\n",
    "    'min_samples_split': [2, 4, 6, 8, 10]\n",
    "}\n",
    "gs = GridSearchCV(model, param_grid, cv=5)\n",
    "gs.fit(X_train,y_train_clf)\n",
    "\n",
    "print('Best score:', gs.best_score_)\n",
    "print('Mejores parámetros:', gs.best_estimator_)\n",
    "print('Entrenamiento:', gs.score(X_train, y_train_clf))\n",
    "print('Test:', gs.score(X_test, y_test_clf))"
   ]
  },
  {
   "cell_type": "markdown",
   "metadata": {},
   "source": [
    "Los resultados de entrenamiento y test siguen siendo dispares, teniendo un alto entrenamiento y un acierto en el test del 50%, por lo que, aunque con modificación de hiperparámetros, se sigue produciendo sobreentrenamiento."
   ]
  },
  {
   "cell_type": "markdown",
   "metadata": {},
   "source": [
    "### Regresión Logística"
   ]
  },
  {
   "cell_type": "markdown",
   "metadata": {},
   "source": [
    "Apliquemos el estimador de regresión logística."
   ]
  },
  {
   "cell_type": "code",
   "execution_count": 26,
   "metadata": {},
   "outputs": [
    {
     "name": "stdout",
     "output_type": "stream",
     "text": [
      "Entrnamiento: 0.5283757338551859\n",
      "Test: 0.5272727272727272\n"
     ]
    }
   ],
   "source": [
    "from sklearn.linear_model import LogisticRegression\n",
    "\n",
    "model = LogisticRegression(max_iter=10000)\n",
    "\n",
    "model.fit(X_train, y_train_clf)\n",
    "\n",
    "print(\"Entrnamiento:\", model.score(X_train, y_train_clf))\n",
    "print(\"Test:\", model.score(X_test, y_test_clf))"
   ]
  },
  {
   "cell_type": "markdown",
   "metadata": {},
   "source": [
    "Como en el caso de `SVC`, se tiene buena relación entre entrenamiento y test, pero con un acierto cercano al 50%.<br>\n",
    "Veamos que ocurre con `Grid Search`."
   ]
  },
  {
   "cell_type": "code",
   "execution_count": 27,
   "metadata": {},
   "outputs": [
    {
     "name": "stdout",
     "output_type": "stream",
     "text": [
      "Best score: 0.48928231486769463\n",
      "Mejores parámetros: LogisticRegression(C=16, max_iter=10000, tol=0.5)\n",
      "Entrenamiento: 0.5753424657534246\n",
      "Test: 0.5636363636363636\n"
     ]
    }
   ],
   "source": [
    "kf = KFold(n_splits=5, shuffle=True) \n",
    "\n",
    "model = LogisticRegression()\n",
    "param_grid = {\n",
    "    'C': range(2,20),\n",
    "    'tol': [0.001, 0.01, 0.1, 0.5, 1],\n",
    "    'max_iter': [10000]\n",
    "}\n",
    "gs = GridSearchCV(model, param_grid, cv=kf)\n",
    "gs.fit(X_train,y_train_clf)\n",
    "\n",
    "print('Best score:', gs.best_score_)\n",
    "print('Mejores parámetros:', gs.best_estimator_)\n",
    "print('Entrenamiento:', gs.score(X_train, y_train_clf))\n",
    "print('Test:', gs.score(X_test, y_test_clf))"
   ]
  },
  {
   "cell_type": "markdown",
   "metadata": {},
   "source": [
    "Se consigue mejora en los resultados finales, pero sigue quedando sobre un 50% de acierto a la hora de predecir."
   ]
  },
  {
   "cell_type": "markdown",
   "metadata": {},
   "source": [
    "### Representación gráfica"
   ]
  },
  {
   "cell_type": "markdown",
   "metadata": {},
   "source": [
    "Generamos la matriz de confusión de este último estimador, para ver como quedan distribuidos los datos.<br>"
   ]
  },
  {
   "cell_type": "code",
   "execution_count": 28,
   "metadata": {},
   "outputs": [
    {
     "data": {
      "text/plain": [
       "<sklearn.metrics._plot.confusion_matrix.ConfusionMatrixDisplay at 0x276f915bfa0>"
      ]
     },
     "execution_count": 28,
     "metadata": {},
     "output_type": "execute_result"
    },
    {
     "data": {
      "image/png": "[encoded data removed]",
      "text/plain": [
       "<Figure size 432x288 with 2 Axes>"
      ]
     },
     "metadata": {
      "needs_background": "light"
     },
     "output_type": "display_data"
    }
   ],
   "source": [
    "y_pred = gs.predict(X_test)\n",
    "from sklearn.metrics import confusion_matrix\n",
    "cm = confusion_matrix(y_test_clf, y_pred)\n",
    "\n",
    "from sklearn.metrics import ConfusionMatrixDisplay\n",
    "cmd = ConfusionMatrixDisplay(\n",
    "        cm,\n",
    "        display_labels=y_cod.unique()\n",
    "        )\n",
    "\n",
    "cmd.plot(cmap='Oranges')"
   ]
  },
  {
   "cell_type": "markdown",
   "metadata": {},
   "source": [
    "Como estamos sobre valores del 50%, tenemos muchos valores fuera de la diagonal principal."
   ]
  },
  {
   "cell_type": "markdown",
   "metadata": {},
   "source": [
    "## Conclusión\n",
    "\n",
    "Como hemos visto, los estimadores de Regresión para estos datos tienen un mejor desempeño que los estimadores de Clasificación.<br>\n",
    "Hemos obtenido para varios de ellos valores de estimación por encima del 80%, por lo que podemos considerar que tenemos buenos modelos sobre los que poder hacer predicciones."
   ]
  }
 ],
 "metadata": {
  "interpreter": {
   "hash": "ae1f9380dc869fcbf2a2c0dfd8bc0d714c41c9f5816e912ba371641517bb9234"
  },
  "kernelspec": {
   "display_name": "Python 3.10.0 64-bit",
   "language": "python",
   "name": "python3"
  },
  "language_info": {
   "codemirror_mode": {
    "name": "ipython",
    "version": 3
   },
   "file_extension": ".py",
   "mimetype": "text/x-python",
   "name": "python",
   "nbconvert_exporter": "python",
   "pygments_lexer": "ipython3",
   "version": "3.10.0"
  },
  "orig_nbformat": 4
 },
 "nbformat": 4,
 "nbformat_minor": 2
}
